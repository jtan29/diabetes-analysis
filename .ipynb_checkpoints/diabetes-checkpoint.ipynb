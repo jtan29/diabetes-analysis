{
 "cells": [
  {
   "cell_type": "code",
   "execution_count": 31,
   "id": "c7c2954b-0f2e-4e21-86ea-cc72ba15322f",
   "metadata": {},
   "outputs": [],
   "source": [
    "import matplotlib.pyplot as plt\n",
    "import numpy as np\n",
    "import pandas as pd\n",
    "from sklearn.compose import ColumnTransformer, make_column_transformer\n",
    "from sklearn.dummy import DummyClassifier\n",
    "from sklearn.linear_model import LogisticRegression\n",
    "from sklearn.ensemble import RandomForestClassifier\n",
    "from sklearn.metrics import confusion_matrix\n",
    "from sklearn.model_selection import (\n",
    "    RandomizedSearchCV,\n",
    "    cross_val_predict,\n",
    "    cross_val_score,\n",
    "    cross_validate,\n",
    "    train_test_split,\n",
    ")\n",
    "from sklearn.pipeline import Pipeline, make_pipeline\n",
    "from sklearn.preprocessing import (\n",
    "    FunctionTransformer,\n",
    "    OneHotEncoder,\n",
    "    StandardScaler\n",
    ")\n",
    "from sklearn.preprocessing import LabelEncoder"
   ]
  },
  {
   "cell_type": "markdown",
   "id": "1d38669e-cd15-4753-bd4b-d54d2285ca1e",
   "metadata": {},
   "source": [
    "# Predicting Diabetes Based on Key Symptoms"
   ]
  },
  {
   "cell_type": "markdown",
   "id": "5fa3a346-6659-468b-9eb7-abfdce33434c",
   "metadata": {},
   "source": [
    "The dataset used for this analysis is available on Kaggle: [Early Stage Diabetes Risk Prediction](https://www.kaggle.com/datasets/abdelazizsami/early-stage-diabetes-risk-prediction). I begin by loading it into a dataframe."
   ]
  },
  {
   "cell_type": "code",
   "execution_count": 32,
   "id": "9b4cddd3-b561-427d-9057-6a78070e9406",
   "metadata": {},
   "outputs": [
    {
     "data": {
      "text/html": [
       "<div>\n",
       "<style scoped>\n",
       "    .dataframe tbody tr th:only-of-type {\n",
       "        vertical-align: middle;\n",
       "    }\n",
       "\n",
       "    .dataframe tbody tr th {\n",
       "        vertical-align: top;\n",
       "    }\n",
       "\n",
       "    .dataframe thead th {\n",
       "        text-align: right;\n",
       "    }\n",
       "</style>\n",
       "<table border=\"1\" class=\"dataframe\">\n",
       "  <thead>\n",
       "    <tr style=\"text-align: right;\">\n",
       "      <th></th>\n",
       "      <th>Age</th>\n",
       "      <th>Gender</th>\n",
       "      <th>Polyuria</th>\n",
       "      <th>Polydipsia</th>\n",
       "      <th>sudden weight loss</th>\n",
       "      <th>weakness</th>\n",
       "      <th>Polyphagia</th>\n",
       "      <th>Genital thrush</th>\n",
       "      <th>visual blurring</th>\n",
       "      <th>Itching</th>\n",
       "      <th>Irritability</th>\n",
       "      <th>delayed healing</th>\n",
       "      <th>partial paresis</th>\n",
       "      <th>muscle stiffness</th>\n",
       "      <th>Alopecia</th>\n",
       "      <th>Obesity</th>\n",
       "      <th>class</th>\n",
       "    </tr>\n",
       "  </thead>\n",
       "  <tbody>\n",
       "    <tr>\n",
       "      <th>367</th>\n",
       "      <td>40</td>\n",
       "      <td>Female</td>\n",
       "      <td>Yes</td>\n",
       "      <td>Yes</td>\n",
       "      <td>Yes</td>\n",
       "      <td>Yes</td>\n",
       "      <td>No</td>\n",
       "      <td>No</td>\n",
       "      <td>Yes</td>\n",
       "      <td>No</td>\n",
       "      <td>No</td>\n",
       "      <td>Yes</td>\n",
       "      <td>Yes</td>\n",
       "      <td>Yes</td>\n",
       "      <td>No</td>\n",
       "      <td>No</td>\n",
       "      <td>Positive</td>\n",
       "    </tr>\n",
       "    <tr>\n",
       "      <th>145</th>\n",
       "      <td>61</td>\n",
       "      <td>Male</td>\n",
       "      <td>Yes</td>\n",
       "      <td>No</td>\n",
       "      <td>No</td>\n",
       "      <td>Yes</td>\n",
       "      <td>Yes</td>\n",
       "      <td>Yes</td>\n",
       "      <td>Yes</td>\n",
       "      <td>Yes</td>\n",
       "      <td>Yes</td>\n",
       "      <td>Yes</td>\n",
       "      <td>Yes</td>\n",
       "      <td>No</td>\n",
       "      <td>No</td>\n",
       "      <td>No</td>\n",
       "      <td>Positive</td>\n",
       "    </tr>\n",
       "    <tr>\n",
       "      <th>258</th>\n",
       "      <td>35</td>\n",
       "      <td>Female</td>\n",
       "      <td>Yes</td>\n",
       "      <td>Yes</td>\n",
       "      <td>Yes</td>\n",
       "      <td>Yes</td>\n",
       "      <td>Yes</td>\n",
       "      <td>No</td>\n",
       "      <td>Yes</td>\n",
       "      <td>Yes</td>\n",
       "      <td>No</td>\n",
       "      <td>Yes</td>\n",
       "      <td>Yes</td>\n",
       "      <td>Yes</td>\n",
       "      <td>No</td>\n",
       "      <td>No</td>\n",
       "      <td>Positive</td>\n",
       "    </tr>\n",
       "    <tr>\n",
       "      <th>238</th>\n",
       "      <td>72</td>\n",
       "      <td>Male</td>\n",
       "      <td>No</td>\n",
       "      <td>No</td>\n",
       "      <td>No</td>\n",
       "      <td>No</td>\n",
       "      <td>Yes</td>\n",
       "      <td>No</td>\n",
       "      <td>Yes</td>\n",
       "      <td>Yes</td>\n",
       "      <td>No</td>\n",
       "      <td>Yes</td>\n",
       "      <td>No</td>\n",
       "      <td>Yes</td>\n",
       "      <td>Yes</td>\n",
       "      <td>No</td>\n",
       "      <td>Negative</td>\n",
       "    </tr>\n",
       "    <tr>\n",
       "      <th>517</th>\n",
       "      <td>58</td>\n",
       "      <td>Female</td>\n",
       "      <td>Yes</td>\n",
       "      <td>Yes</td>\n",
       "      <td>Yes</td>\n",
       "      <td>Yes</td>\n",
       "      <td>Yes</td>\n",
       "      <td>No</td>\n",
       "      <td>Yes</td>\n",
       "      <td>No</td>\n",
       "      <td>No</td>\n",
       "      <td>No</td>\n",
       "      <td>Yes</td>\n",
       "      <td>Yes</td>\n",
       "      <td>No</td>\n",
       "      <td>Yes</td>\n",
       "      <td>Positive</td>\n",
       "    </tr>\n",
       "  </tbody>\n",
       "</table>\n",
       "</div>"
      ],
      "text/plain": [
       "     Age  Gender Polyuria Polydipsia sudden weight loss weakness Polyphagia  \\\n",
       "367   40  Female      Yes        Yes                Yes      Yes         No   \n",
       "145   61    Male      Yes         No                 No      Yes        Yes   \n",
       "258   35  Female      Yes        Yes                Yes      Yes        Yes   \n",
       "238   72    Male       No         No                 No       No        Yes   \n",
       "517   58  Female      Yes        Yes                Yes      Yes        Yes   \n",
       "\n",
       "    Genital thrush visual blurring Itching Irritability delayed healing  \\\n",
       "367             No             Yes      No           No             Yes   \n",
       "145            Yes             Yes     Yes          Yes             Yes   \n",
       "258             No             Yes     Yes           No             Yes   \n",
       "238             No             Yes     Yes           No             Yes   \n",
       "517             No             Yes      No           No              No   \n",
       "\n",
       "    partial paresis muscle stiffness Alopecia Obesity     class  \n",
       "367             Yes              Yes       No      No  Positive  \n",
       "145             Yes               No       No      No  Positive  \n",
       "258             Yes              Yes       No      No  Positive  \n",
       "238              No              Yes      Yes      No  Negative  \n",
       "517             Yes              Yes       No     Yes  Positive  "
      ]
     },
     "execution_count": 32,
     "metadata": {},
     "output_type": "execute_result"
    }
   ],
   "source": [
    "df = pd.read_csv(\"diabetes.csv\")\n",
    "train_df, test_df = train_test_split(df, random_state=111)\n",
    "train_df.head()"
   ]
  },
  {
   "cell_type": "markdown",
   "id": "119b63e6-6bb8-4d8c-93a1-03a90602751c",
   "metadata": {},
   "source": [
    "## EDA"
   ]
  },
  {
   "cell_type": "markdown",
   "id": "c9d71ff3-0b6e-4362-9d85-d607cd8f189e",
   "metadata": {},
   "source": [
    "Before predicting, I will first explore the data to determine whether any values are missing, and to determine the type of each feature."
   ]
  },
  {
   "cell_type": "code",
   "execution_count": 33,
   "id": "938cb84f-0af2-4979-a42d-353b5be23d9c",
   "metadata": {},
   "outputs": [
    {
     "name": "stdout",
     "output_type": "stream",
     "text": [
      "<class 'pandas.core.frame.DataFrame'>\n",
      "Index: 390 entries, 367 to 86\n",
      "Data columns (total 17 columns):\n",
      " #   Column              Non-Null Count  Dtype \n",
      "---  ------              --------------  ----- \n",
      " 0   Age                 390 non-null    int64 \n",
      " 1   Gender              390 non-null    object\n",
      " 2   Polyuria            390 non-null    object\n",
      " 3   Polydipsia          390 non-null    object\n",
      " 4   sudden weight loss  390 non-null    object\n",
      " 5   weakness            390 non-null    object\n",
      " 6   Polyphagia          390 non-null    object\n",
      " 7   Genital thrush      390 non-null    object\n",
      " 8   visual blurring     390 non-null    object\n",
      " 9   Itching             390 non-null    object\n",
      " 10  Irritability        390 non-null    object\n",
      " 11  delayed healing     390 non-null    object\n",
      " 12  partial paresis     390 non-null    object\n",
      " 13  muscle stiffness    390 non-null    object\n",
      " 14  Alopecia            390 non-null    object\n",
      " 15  Obesity             390 non-null    object\n",
      " 16  class               390 non-null    object\n",
      "dtypes: int64(1), object(16)\n",
      "memory usage: 54.8+ KB\n"
     ]
    }
   ],
   "source": [
    "train_df.info()"
   ]
  },
  {
   "cell_type": "markdown",
   "id": "5c8df533-e69c-4f98-a5fa-67d8858d1792",
   "metadata": {},
   "source": [
    "Since none of the features are missing any values, there is no need for imputation for any of the features. It looks like `Age` is a numeric feature, and everything else is a feature representing whether a particular symptom was observed. None of the features seem to be unique identifiers or otherwise irrelevant to diabetes status, so all the features will be retained. For my analysis, I will be trying to predict `class` which denotes whether the individual with that particular set of symptoms was diagnosed with diabetes."
   ]
  },
  {
   "cell_type": "code",
   "execution_count": 34,
   "id": "b590753e-2cb5-4287-bbb9-72a631d53c51",
   "metadata": {},
   "outputs": [],
   "source": [
    "numeric_features = [\"Age\"]\n",
    "target_column = [\"class\"]\n",
    "binary_features = list(\n",
    "    set(train_df.columns)\n",
    "    - set(numeric_features)\n",
    "    - set(target_column)\n",
    ")"
   ]
  },
  {
   "cell_type": "markdown",
   "id": "6e8b92bb-35b5-48a8-b791-6bb1dc7dcc92",
   "metadata": {},
   "source": [
    "For the sole numeric feature, I will use `StandardScaler` so that the magnitude does not affect the analysis (this will not be relevant for some of the models). For the remaining features, I will use `OneHotEncoder` to convert them from \"Yes\"/\"No\" to a numerical representation."
   ]
  },
  {
   "cell_type": "code",
   "execution_count": 35,
   "id": "02f440d4-24d4-4271-98ba-7dced9907040",
   "metadata": {},
   "outputs": [],
   "source": [
    "preprocessor = make_column_transformer(\n",
    "    (StandardScaler(), numeric_features),\n",
    "    (OneHotEncoder(drop = \"if_binary\"), binary_features),\n",
    ")"
   ]
  },
  {
   "cell_type": "markdown",
   "id": "c92239c9-44e1-4c65-83c8-7575a98be397",
   "metadata": {},
   "source": [
    "To see what the data looks like after processing, I'll fit it here:"
   ]
  },
  {
   "cell_type": "code",
   "execution_count": 36,
   "id": "ab10044f-a6a0-4cb0-9ecc-4fa7cf6649e0",
   "metadata": {},
   "outputs": [],
   "source": [
    "preprocessor.fit(train_df);\n",
    "\n",
    "X_train_enc = pd.DataFrame(\n",
    "    preprocessor.transform(train_df), index=train_df.index, columns = (numeric_features + binary_features)\n",
    ")\n",
    "X_test_enc = pd.DataFrame(\n",
    "    preprocessor.transform(train_df), index=train_df.index, columns = (numeric_features + binary_features)\n",
    ")"
   ]
  },
  {
   "cell_type": "markdown",
   "id": "ac499eb1-c8c3-41da-b018-e8c498d40bfa",
   "metadata": {},
   "source": [
    "At this point, I will also use `LabelEncoder` to transform the target, `class`, from text answers to a numerical representation (necessary for certain models)."
   ]
  },
  {
   "cell_type": "code",
   "execution_count": 37,
   "id": "366c15cb-6e07-4e60-8b44-3652ceaa1f41",
   "metadata": {},
   "outputs": [],
   "source": [
    "le = LabelEncoder()\n",
    "y_train = train_df['class']\n",
    "y_test = test_df['class']\n",
    "y_train_enc = le.fit_transform(y_train)\n",
    "y_test_enc = le.transform(y_test)"
   ]
  },
  {
   "cell_type": "markdown",
   "id": "1d011d41-714a-4a9d-b51e-03213150221c",
   "metadata": {},
   "source": [
    "A quick look at the processed data:"
   ]
  },
  {
   "cell_type": "code",
   "execution_count": 38,
   "id": "8353a58a-7f22-4337-b5ae-e547d67136ad",
   "metadata": {},
   "outputs": [
    {
     "data": {
      "text/html": [
       "<div>\n",
       "<style scoped>\n",
       "    .dataframe tbody tr th:only-of-type {\n",
       "        vertical-align: middle;\n",
       "    }\n",
       "\n",
       "    .dataframe tbody tr th {\n",
       "        vertical-align: top;\n",
       "    }\n",
       "\n",
       "    .dataframe thead th {\n",
       "        text-align: right;\n",
       "    }\n",
       "</style>\n",
       "<table border=\"1\" class=\"dataframe\">\n",
       "  <thead>\n",
       "    <tr style=\"text-align: right;\">\n",
       "      <th></th>\n",
       "      <th>Age</th>\n",
       "      <th>Polyuria</th>\n",
       "      <th>Polydipsia</th>\n",
       "      <th>sudden weight loss</th>\n",
       "      <th>muscle stiffness</th>\n",
       "      <th>Gender</th>\n",
       "      <th>visual blurring</th>\n",
       "      <th>weakness</th>\n",
       "      <th>Alopecia</th>\n",
       "      <th>Polyphagia</th>\n",
       "      <th>Genital thrush</th>\n",
       "      <th>partial paresis</th>\n",
       "      <th>Obesity</th>\n",
       "      <th>Irritability</th>\n",
       "      <th>delayed healing</th>\n",
       "      <th>Itching</th>\n",
       "    </tr>\n",
       "  </thead>\n",
       "  <tbody>\n",
       "    <tr>\n",
       "      <th>367</th>\n",
       "      <td>-0.697284</td>\n",
       "      <td>1.0</td>\n",
       "      <td>1.0</td>\n",
       "      <td>1.0</td>\n",
       "      <td>1.0</td>\n",
       "      <td>0.0</td>\n",
       "      <td>1.0</td>\n",
       "      <td>1.0</td>\n",
       "      <td>0.0</td>\n",
       "      <td>0.0</td>\n",
       "      <td>0.0</td>\n",
       "      <td>1.0</td>\n",
       "      <td>0.0</td>\n",
       "      <td>0.0</td>\n",
       "      <td>1.0</td>\n",
       "      <td>0.0</td>\n",
       "    </tr>\n",
       "    <tr>\n",
       "      <th>145</th>\n",
       "      <td>1.046992</td>\n",
       "      <td>1.0</td>\n",
       "      <td>0.0</td>\n",
       "      <td>0.0</td>\n",
       "      <td>0.0</td>\n",
       "      <td>1.0</td>\n",
       "      <td>1.0</td>\n",
       "      <td>1.0</td>\n",
       "      <td>0.0</td>\n",
       "      <td>1.0</td>\n",
       "      <td>1.0</td>\n",
       "      <td>1.0</td>\n",
       "      <td>0.0</td>\n",
       "      <td>1.0</td>\n",
       "      <td>1.0</td>\n",
       "      <td>1.0</td>\n",
       "    </tr>\n",
       "    <tr>\n",
       "      <th>258</th>\n",
       "      <td>-1.112588</td>\n",
       "      <td>1.0</td>\n",
       "      <td>1.0</td>\n",
       "      <td>1.0</td>\n",
       "      <td>1.0</td>\n",
       "      <td>0.0</td>\n",
       "      <td>1.0</td>\n",
       "      <td>1.0</td>\n",
       "      <td>0.0</td>\n",
       "      <td>1.0</td>\n",
       "      <td>0.0</td>\n",
       "      <td>1.0</td>\n",
       "      <td>0.0</td>\n",
       "      <td>0.0</td>\n",
       "      <td>1.0</td>\n",
       "      <td>1.0</td>\n",
       "    </tr>\n",
       "    <tr>\n",
       "      <th>238</th>\n",
       "      <td>1.960660</td>\n",
       "      <td>0.0</td>\n",
       "      <td>0.0</td>\n",
       "      <td>0.0</td>\n",
       "      <td>1.0</td>\n",
       "      <td>1.0</td>\n",
       "      <td>1.0</td>\n",
       "      <td>0.0</td>\n",
       "      <td>1.0</td>\n",
       "      <td>1.0</td>\n",
       "      <td>0.0</td>\n",
       "      <td>0.0</td>\n",
       "      <td>0.0</td>\n",
       "      <td>0.0</td>\n",
       "      <td>1.0</td>\n",
       "      <td>1.0</td>\n",
       "    </tr>\n",
       "    <tr>\n",
       "      <th>517</th>\n",
       "      <td>0.797809</td>\n",
       "      <td>1.0</td>\n",
       "      <td>1.0</td>\n",
       "      <td>1.0</td>\n",
       "      <td>1.0</td>\n",
       "      <td>0.0</td>\n",
       "      <td>1.0</td>\n",
       "      <td>1.0</td>\n",
       "      <td>0.0</td>\n",
       "      <td>1.0</td>\n",
       "      <td>0.0</td>\n",
       "      <td>1.0</td>\n",
       "      <td>1.0</td>\n",
       "      <td>0.0</td>\n",
       "      <td>0.0</td>\n",
       "      <td>0.0</td>\n",
       "    </tr>\n",
       "  </tbody>\n",
       "</table>\n",
       "</div>"
      ],
      "text/plain": [
       "          Age  Polyuria  Polydipsia  sudden weight loss  muscle stiffness  \\\n",
       "367 -0.697284       1.0         1.0                 1.0               1.0   \n",
       "145  1.046992       1.0         0.0                 0.0               0.0   \n",
       "258 -1.112588       1.0         1.0                 1.0               1.0   \n",
       "238  1.960660       0.0         0.0                 0.0               1.0   \n",
       "517  0.797809       1.0         1.0                 1.0               1.0   \n",
       "\n",
       "     Gender  visual blurring  weakness  Alopecia  Polyphagia  Genital thrush  \\\n",
       "367     0.0              1.0       1.0       0.0         0.0             0.0   \n",
       "145     1.0              1.0       1.0       0.0         1.0             1.0   \n",
       "258     0.0              1.0       1.0       0.0         1.0             0.0   \n",
       "238     1.0              1.0       0.0       1.0         1.0             0.0   \n",
       "517     0.0              1.0       1.0       0.0         1.0             0.0   \n",
       "\n",
       "     partial paresis  Obesity  Irritability  delayed healing  Itching  \n",
       "367              1.0      0.0           0.0              1.0      0.0  \n",
       "145              1.0      0.0           1.0              1.0      1.0  \n",
       "258              1.0      0.0           0.0              1.0      1.0  \n",
       "238              0.0      0.0           0.0              1.0      1.0  \n",
       "517              1.0      1.0           0.0              0.0      0.0  "
      ]
     },
     "execution_count": 38,
     "metadata": {},
     "output_type": "execute_result"
    }
   ],
   "source": [
    "X_train_enc.head()"
   ]
  },
  {
   "cell_type": "markdown",
   "id": "a470ecc5-8c3a-4e54-8f0f-03b14f54a6bd",
   "metadata": {},
   "source": [
    "Before moving on to the actual models that I will be using to make the predictions, I will quickly check how many people in the dataset were diagnosed with diabetes. If the dataset is highly skewed, the default metric (accuracy, or correct predictions out of the total) may not be suitable."
   ]
  },
  {
   "cell_type": "code",
   "execution_count": 39,
   "id": "08e8ed5e-48d9-4398-900e-c0d8ad983d3b",
   "metadata": {},
   "outputs": [
    {
     "data": {
      "text/plain": [
       "class\n",
       "Positive    244\n",
       "Negative    146\n",
       "Name: count, dtype: int64"
      ]
     },
     "execution_count": 39,
     "metadata": {},
     "output_type": "execute_result"
    }
   ],
   "source": [
    "train_df['class'].value_counts()"
   ]
  },
  {
   "cell_type": "markdown",
   "id": "25be4286-b0b5-45a0-b910-a6d58ddae014",
   "metadata": {},
   "source": [
    "Out of 390 individuals in this dataset, 244 (or about 63%) had diabetes. This indicates a significant skew, but not enough to render `accuracy` unhelpful in determining how well different models perform on the dataset."
   ]
  },
  {
   "cell_type": "markdown",
   "id": "17368a98-c451-485b-b7fe-59216858cda3",
   "metadata": {},
   "source": [
    "## Models"
   ]
  },
  {
   "cell_type": "markdown",
   "id": "96200c86-f673-4c38-8f82-3f113c9a8bf0",
   "metadata": {},
   "source": [
    "Below, I have included a useful helper function from my machine learning course at UBC. It can be found in a public GitHub repo here: https://github.com/UBC-CS/cpsc330-2023W2/blob/main/hw/hw3/hw3.ipynb."
   ]
  },
  {
   "cell_type": "code",
   "execution_count": 40,
   "id": "0e087a60-ac09-43f6-9d38-e5db995cd93c",
   "metadata": {},
   "outputs": [],
   "source": [
    "# Helper function from CPSC330: Applied Machine Learning at UBC, available here:\n",
    "# https://github.com/UBC-CS/cpsc330-2023W2/blob/main/hw/hw3/hw3.ipynb \n",
    "\n",
    "def mean_std_cross_val_scores(model, X_train, y_train, **kwargs):\n",
    "    \"\"\"\n",
    "    Returns mean and std of cross validation\n",
    "\n",
    "    Parameters\n",
    "    ----------\n",
    "    model :\n",
    "        scikit-learn model\n",
    "    X_train : numpy array or pandas DataFrame\n",
    "        X in the training data\n",
    "    y_train :\n",
    "        y in the training data\n",
    "\n",
    "    Returns\n",
    "    ----------\n",
    "        pandas Series with mean scores from cross_validation\n",
    "    \"\"\"\n",
    "\n",
    "    scores = cross_validate(model, X_train, y_train, **kwargs)\n",
    "\n",
    "    mean_scores = pd.DataFrame(scores).mean()\n",
    "    std_scores = pd.DataFrame(scores).std()\n",
    "    out_col = []\n",
    "\n",
    "    for i in range(len(mean_scores)):\n",
    "        out_col.append((f\"%0.3f (+/- %0.3f)\" % (mean_scores[i], std_scores[i])))\n",
    "\n",
    "    return pd.Series(data=out_col, index=mean_scores.index)"
   ]
  },
  {
   "cell_type": "markdown",
   "id": "e510cfbf-2302-4373-80e4-f543394d3298",
   "metadata": {},
   "source": [
    "### Baseline Model"
   ]
  },
  {
   "cell_type": "markdown",
   "id": "2378f9ce-7d9b-42d6-9670-a580fc2b313d",
   "metadata": {},
   "source": [
    "For the baseline, I will use scikit-learn's `DummyClassifier` to make an initial prediction. Since it just takes the most frequent class in the target, there is no need to put it through the preprocessor."
   ]
  },
  {
   "cell_type": "code",
   "execution_count": 41,
   "id": "4a6087cf-b4e4-4d0e-85b3-a41c62721944",
   "metadata": {},
   "outputs": [],
   "source": [
    "X_train = train_df.drop(columns=[\"class\"])\n",
    "X_test = test_df.drop(columns=[\"class\"])\n",
    "\n",
    "y_train = train_df[\"class\"]\n",
    "y_test = test_df[\"class\"]"
   ]
  },
  {
   "cell_type": "code",
   "execution_count": 42,
   "id": "0253db4a-0130-4619-ad67-59bf11fd5ca7",
   "metadata": {},
   "outputs": [
    {
     "name": "stderr",
     "output_type": "stream",
     "text": [
      "C:\\Users\\simar\\AppData\\Local\\Temp\\ipykernel_11636\\2179986651.py:29: FutureWarning: Series.__getitem__ treating keys as positions is deprecated. In a future version, integer keys will always be treated as labels (consistent with DataFrame behavior). To access a value by position, use `ser.iloc[pos]`\n",
      "  out_col.append((f\"%0.3f (+/- %0.3f)\" % (mean_scores[i], std_scores[i])))\n"
     ]
    },
    {
     "data": {
      "text/html": [
       "<div>\n",
       "<style scoped>\n",
       "    .dataframe tbody tr th:only-of-type {\n",
       "        vertical-align: middle;\n",
       "    }\n",
       "\n",
       "    .dataframe tbody tr th {\n",
       "        vertical-align: top;\n",
       "    }\n",
       "\n",
       "    .dataframe thead th {\n",
       "        text-align: right;\n",
       "    }\n",
       "</style>\n",
       "<table border=\"1\" class=\"dataframe\">\n",
       "  <thead>\n",
       "    <tr style=\"text-align: right;\">\n",
       "      <th></th>\n",
       "      <th>fit_time</th>\n",
       "      <th>score_time</th>\n",
       "      <th>test_score</th>\n",
       "      <th>train_score</th>\n",
       "    </tr>\n",
       "  </thead>\n",
       "  <tbody>\n",
       "    <tr>\n",
       "      <th>dummy</th>\n",
       "      <td>0.001 (+/- 0.002)</td>\n",
       "      <td>0.001 (+/- 0.003)</td>\n",
       "      <td>0.626 (+/- 0.006)</td>\n",
       "      <td>0.626 (+/- 0.001)</td>\n",
       "    </tr>\n",
       "  </tbody>\n",
       "</table>\n",
       "</div>"
      ],
      "text/plain": [
       "                fit_time         score_time         test_score  \\\n",
       "dummy  0.001 (+/- 0.002)  0.001 (+/- 0.003)  0.626 (+/- 0.006)   \n",
       "\n",
       "             train_score  \n",
       "dummy  0.626 (+/- 0.001)  "
      ]
     },
     "metadata": {},
     "output_type": "display_data"
    }
   ],
   "source": [
    "results = {}\n",
    "dummy = DummyClassifier(strategy=\"most_frequent\")\n",
    "results[\"dummy\"] = mean_std_cross_val_scores(dummy, X_train, y_train, cv = 5, return_train_score=True)\n",
    "display(pd.DataFrame(results).T)\n",
    "\n",
    "dummy.fit(X_train, y_train)\n",
    "matrix = confusion_matrix(y_train, dummy.predict(X_train))"
   ]
  },
  {
   "cell_type": "markdown",
   "id": "d0ab8ff2-6aa5-4e8d-a226-21ad7a039c25",
   "metadata": {},
   "source": [
    "### Other Models"
   ]
  },
  {
   "cell_type": "markdown",
   "id": "59d2b534-48fc-4854-aba7-4402ee34ce53",
   "metadata": {},
   "source": [
    "With a baseline established, a more complex but still interpretable model is `LogisticRegression`. Let's give it a try."
   ]
  },
  {
   "cell_type": "code",
   "execution_count": 44,
   "id": "97e70800-75c4-4c5c-b291-88cb1d8b5da5",
   "metadata": {},
   "outputs": [
    {
     "name": "stderr",
     "output_type": "stream",
     "text": [
      "C:\\Users\\simar\\anaconda3\\envs\\cpsc330\\lib\\site-packages\\sklearn\\model_selection\\_search.py:307: UserWarning: The total space of parameters 8 is smaller than n_iter=100. Running 8 iterations. For exhaustive searches, use GridSearchCV.\n",
      "  warnings.warn(\n"
     ]
    },
    {
     "name": "stdout",
     "output_type": "stream",
     "text": [
      "0.9205128205128205\n",
      "{'logisticregression__C': 1}\n"
     ]
    }
   ],
   "source": [
    "param_dist = {\n",
    "    \"logisticregression__C\": [0.001, 0.01, 0.1, 1, 10, 100, 1000, 10000]\n",
    "}\n",
    "\n",
    "pipe = make_pipeline(preprocessor, LogisticRegression(max_iter=10000))\n",
    "\n",
    "random_search = RandomizedSearchCV(pipe,\n",
    "                  random_state = 111,\n",
    "                  param_distributions = param_dist, \n",
    "                  n_iter=100, \n",
    "                  return_train_score=True)\n",
    "\n",
    "random_search.fit(X_train, y_train)\n",
    "lr_best_score = random_search.best_score_\n",
    "lr_best_params = random_search.best_params_\n",
    "print(lr_best_score)\n",
    "print(lr_best_params)"
   ]
  },
  {
   "cell_type": "code",
   "execution_count": 45,
   "id": "4dc544ef-ea6f-4fae-bd92-f2077b635655",
   "metadata": {},
   "outputs": [
    {
     "name": "stderr",
     "output_type": "stream",
     "text": [
      "C:\\Users\\simar\\AppData\\Local\\Temp\\ipykernel_11636\\2179986651.py:29: FutureWarning: Series.__getitem__ treating keys as positions is deprecated. In a future version, integer keys will always be treated as labels (consistent with DataFrame behavior). To access a value by position, use `ser.iloc[pos]`\n",
      "  out_col.append((f\"%0.3f (+/- %0.3f)\" % (mean_scores[i], std_scores[i])))\n"
     ]
    },
    {
     "data": {
      "text/html": [
       "<div>\n",
       "<style scoped>\n",
       "    .dataframe tbody tr th:only-of-type {\n",
       "        vertical-align: middle;\n",
       "    }\n",
       "\n",
       "    .dataframe tbody tr th {\n",
       "        vertical-align: top;\n",
       "    }\n",
       "\n",
       "    .dataframe thead th {\n",
       "        text-align: right;\n",
       "    }\n",
       "</style>\n",
       "<table border=\"1\" class=\"dataframe\">\n",
       "  <thead>\n",
       "    <tr style=\"text-align: right;\">\n",
       "      <th></th>\n",
       "      <th>fit_time</th>\n",
       "      <th>score_time</th>\n",
       "      <th>test_score</th>\n",
       "      <th>train_score</th>\n",
       "    </tr>\n",
       "  </thead>\n",
       "  <tbody>\n",
       "    <tr>\n",
       "      <th>dummy</th>\n",
       "      <td>0.001 (+/- 0.002)</td>\n",
       "      <td>0.001 (+/- 0.003)</td>\n",
       "      <td>0.626 (+/- 0.006)</td>\n",
       "      <td>0.626 (+/- 0.001)</td>\n",
       "    </tr>\n",
       "    <tr>\n",
       "      <th>LogisticRegression</th>\n",
       "      <td>0.014 (+/- 0.004)</td>\n",
       "      <td>0.004 (+/- 0.003)</td>\n",
       "      <td>0.921 (+/- 0.019)</td>\n",
       "      <td>0.945 (+/- 0.008)</td>\n",
       "    </tr>\n",
       "  </tbody>\n",
       "</table>\n",
       "</div>"
      ],
      "text/plain": [
       "                             fit_time         score_time         test_score  \\\n",
       "dummy               0.001 (+/- 0.002)  0.001 (+/- 0.003)  0.626 (+/- 0.006)   \n",
       "LogisticRegression  0.014 (+/- 0.004)  0.004 (+/- 0.003)  0.921 (+/- 0.019)   \n",
       "\n",
       "                          train_score  \n",
       "dummy               0.626 (+/- 0.001)  \n",
       "LogisticRegression  0.945 (+/- 0.008)  "
      ]
     },
     "metadata": {},
     "output_type": "display_data"
    }
   ],
   "source": [
    "lr = make_pipeline(preprocessor, LogisticRegression(max_iter=10000, C=lr_best_params['logisticregression__C']))\n",
    "results[\"LogisticRegression\"] = mean_std_cross_val_scores(lr, X_train, y_train, cv=5,return_train_score=True)\n",
    "display(pd.DataFrame(results).T)"
   ]
  },
  {
   "cell_type": "markdown",
   "id": "7c027bce-72b1-4d3c-9b20-1be5109bda08",
   "metadata": {},
   "source": [
    "Another common model for classification is `RandomForest`."
   ]
  },
  {
   "cell_type": "code",
   "execution_count": 50,
   "id": "189dcf40-9ca5-4bb0-ad47-7c1f4371964b",
   "metadata": {},
   "outputs": [
    {
     "name": "stdout",
     "output_type": "stream",
     "text": [
      "0.9717948717948719\n",
      "{'randomforestclassifier__n_estimators': 351, 'randomforestclassifier__max_features': 'sqrt', 'randomforestclassifier__max_depth': 10}\n"
     ]
    }
   ],
   "source": [
    "param_dist = {\n",
    "    \"randomforestclassifier__max_depth\": [None, 1, 5, 10, 50, 100, 200, 500],\n",
    "    \"randomforestclassifier__max_features\": [\"sqrt\", \"log2\", None], \n",
    "    \"randomforestclassifier__n_estimators\": range(1, 501, 10)  \n",
    "    \n",
    "}\n",
    "\n",
    "pipe = make_pipeline(preprocessor, RandomForestClassifier(n_jobs=-1))\n",
    "\n",
    "random_search = RandomizedSearchCV(pipe,  \n",
    "                  random_state = 111,\n",
    "                  param_distributions = param_dist, \n",
    "                  n_iter=100, \n",
    "                  n_jobs=-1, \n",
    "                  return_train_score=True)\n",
    "\n",
    "random_search.fit(X_train, y_train)\n",
    "rf_best_score = random_search.best_score_\n",
    "rf_best_params = random_search.best_params_\n",
    "print(rf_best_score)\n",
    "print(rf_best_params)"
   ]
  },
  {
   "cell_type": "code",
   "execution_count": 51,
   "id": "4d621a4d-1614-486b-9daa-2616e0f9f919",
   "metadata": {},
   "outputs": [
    {
     "name": "stderr",
     "output_type": "stream",
     "text": [
      "C:\\Users\\simar\\AppData\\Local\\Temp\\ipykernel_11636\\2179986651.py:29: FutureWarning: Series.__getitem__ treating keys as positions is deprecated. In a future version, integer keys will always be treated as labels (consistent with DataFrame behavior). To access a value by position, use `ser.iloc[pos]`\n",
      "  out_col.append((f\"%0.3f (+/- %0.3f)\" % (mean_scores[i], std_scores[i])))\n"
     ]
    },
    {
     "data": {
      "text/html": [
       "<div>\n",
       "<style scoped>\n",
       "    .dataframe tbody tr th:only-of-type {\n",
       "        vertical-align: middle;\n",
       "    }\n",
       "\n",
       "    .dataframe tbody tr th {\n",
       "        vertical-align: top;\n",
       "    }\n",
       "\n",
       "    .dataframe thead th {\n",
       "        text-align: right;\n",
       "    }\n",
       "</style>\n",
       "<table border=\"1\" class=\"dataframe\">\n",
       "  <thead>\n",
       "    <tr style=\"text-align: right;\">\n",
       "      <th></th>\n",
       "      <th>fit_time</th>\n",
       "      <th>score_time</th>\n",
       "      <th>test_score</th>\n",
       "      <th>train_score</th>\n",
       "    </tr>\n",
       "  </thead>\n",
       "  <tbody>\n",
       "    <tr>\n",
       "      <th>dummy</th>\n",
       "      <td>0.001 (+/- 0.002)</td>\n",
       "      <td>0.001 (+/- 0.003)</td>\n",
       "      <td>0.626 (+/- 0.006)</td>\n",
       "      <td>0.626 (+/- 0.001)</td>\n",
       "    </tr>\n",
       "    <tr>\n",
       "      <th>LogisticRegression</th>\n",
       "      <td>0.014 (+/- 0.004)</td>\n",
       "      <td>0.004 (+/- 0.003)</td>\n",
       "      <td>0.921 (+/- 0.019)</td>\n",
       "      <td>0.945 (+/- 0.008)</td>\n",
       "    </tr>\n",
       "    <tr>\n",
       "      <th>RandomForestClassifier</th>\n",
       "      <td>0.017 (+/- 0.001)</td>\n",
       "      <td>0.010 (+/- 0.001)</td>\n",
       "      <td>0.964 (+/- 0.025)</td>\n",
       "      <td>0.997 (+/- 0.003)</td>\n",
       "    </tr>\n",
       "  </tbody>\n",
       "</table>\n",
       "</div>"
      ],
      "text/plain": [
       "                                 fit_time         score_time  \\\n",
       "dummy                   0.001 (+/- 0.002)  0.001 (+/- 0.003)   \n",
       "LogisticRegression      0.014 (+/- 0.004)  0.004 (+/- 0.003)   \n",
       "RandomForestClassifier  0.017 (+/- 0.001)  0.010 (+/- 0.001)   \n",
       "\n",
       "                               test_score        train_score  \n",
       "dummy                   0.626 (+/- 0.006)  0.626 (+/- 0.001)  \n",
       "LogisticRegression      0.921 (+/- 0.019)  0.945 (+/- 0.008)  \n",
       "RandomForestClassifier  0.964 (+/- 0.025)  0.997 (+/- 0.003)  "
      ]
     },
     "metadata": {},
     "output_type": "display_data"
    }
   ],
   "source": [
    "rf = make_pipeline(preprocessor, RandomForestClassifier(n_jobs=-1, \n",
    "                                                        max_depth = rf_best_params['randomforestclassifier__max_depth'],\n",
    "                                                        max_features = rf_best_params[\"randomforestclassifier__max_features\"],\n",
    "                                                        n_estimators = rf_best_params[\"randomforestclassifier__max_depth\"]))\n",
    "\n",
    "results[\"RandomForestClassifier\"] = mean_std_cross_val_scores(rf, X_train, y_train, cv=5, return_train_score=True)\n",
    "display(pd.DataFrame(results).T)"
   ]
  },
  {
   "cell_type": "markdown",
   "id": "248fbe9f-929d-4be3-878a-59e9557d6ff0",
   "metadata": {},
   "source": [
    "From the cross-validation accuracy, it can be seen`RandomForest` performs significantly better than the dummy and the previous model tried, `LogisticRegression`. However, it is possible that a gradient-boosted model could still do better, next I will try one more model."
   ]
  },
  {
   "cell_type": "code",
   "execution_count": 52,
   "id": "086132b4-b10a-4874-9a23-a052405576e1",
   "metadata": {},
   "outputs": [
    {
     "name": "stderr",
     "output_type": "stream",
     "text": [
      "C:\\Users\\simar\\anaconda3\\envs\\cpsc330\\lib\\site-packages\\sklearn\\model_selection\\_validation.py:425: FitFailedWarning: \n",
      "5 fits failed out of a total of 50.\n",
      "The score on these train-test partitions for these parameters will be set to nan.\n",
      "If these failures are not expected, you can try to debug them by setting error_score='raise'.\n",
      "\n",
      "Below are more details about the failures:\n",
      "--------------------------------------------------------------------------------\n",
      "5 fits failed with the following error:\n",
      "Traceback (most recent call last):\n",
      "  File \"C:\\Users\\simar\\anaconda3\\envs\\cpsc330\\lib\\site-packages\\sklearn\\model_selection\\_validation.py\", line 732, in _fit_and_score\n",
      "    estimator.fit(X_train, y_train, **fit_params)\n",
      "  File \"C:\\Users\\simar\\anaconda3\\envs\\cpsc330\\lib\\site-packages\\sklearn\\base.py\", line 1151, in wrapper\n",
      "    return fit_method(estimator, *args, **kwargs)\n",
      "  File \"C:\\Users\\simar\\anaconda3\\envs\\cpsc330\\lib\\site-packages\\sklearn\\pipeline.py\", line 420, in fit\n",
      "    self._final_estimator.fit(Xt, y, **fit_params_last_step)\n",
      "  File \"C:\\Users\\simar\\anaconda3\\envs\\cpsc330\\lib\\site-packages\\catboost\\core.py\", line 5220, in fit\n",
      "    self._fit(X, y, cat_features, text_features, embedding_features, None, sample_weight, None, None, None, None, baseline, use_best_model,\n",
      "  File \"C:\\Users\\simar\\anaconda3\\envs\\cpsc330\\lib\\site-packages\\catboost\\core.py\", line 2385, in _fit\n",
      "    train_params = self._prepare_train_params(\n",
      "  File \"C:\\Users\\simar\\anaconda3\\envs\\cpsc330\\lib\\site-packages\\catboost\\core.py\", line 2311, in _prepare_train_params\n",
      "    _check_train_params(params)\n",
      "  File \"_catboost.pyx\", line 6393, in _catboost._check_train_params\n",
      "  File \"_catboost.pyx\", line 6415, in _catboost._check_train_params\n",
      "_catboost.CatBoostError: C:/Go_Agent/pipelines/BuildMaster/catboost.git/catboost/private/libs/options/boosting_options.cpp:79: Learning rate should be non-zero\n",
      "\n",
      "  warnings.warn(some_fits_failed_message, FitFailedWarning)\n",
      "C:\\Users\\simar\\anaconda3\\envs\\cpsc330\\lib\\site-packages\\sklearn\\model_selection\\_search.py:976: UserWarning: One or more of the test scores are non-finite: [0.95897436 0.95897436 0.96410256 0.96923077 0.96666667 0.96923077\n",
      " 0.96666667        nan 0.97692308 0.96923077]\n",
      "  warnings.warn(\n",
      "C:\\Users\\simar\\anaconda3\\envs\\cpsc330\\lib\\site-packages\\sklearn\\model_selection\\_search.py:976: UserWarning: One or more of the train scores are non-finite: [ 1.  1.  1.  1.  1.  1.  1. nan  1.  1.]\n",
      "  warnings.warn(\n"
     ]
    },
    {
     "name": "stdout",
     "output_type": "stream",
     "text": [
      "0.976923076923077\n",
      "{'catboostclassifier__learning_rate': 0.2, 'catboostclassifier__max_depth': 9}\n"
     ]
    }
   ],
   "source": [
    "from catboost import CatBoostClassifier\n",
    "from scipy.stats import randint\n",
    "\n",
    "param_dist = {\n",
    "    \"catboostclassifier__learning_rate\": np.linspace(0,0.2,5),\n",
    "    \"catboostclassifier__max_depth\": randint(3, 10)\n",
    "}\n",
    "\n",
    "pipe = make_pipeline(preprocessor, CatBoostClassifier(verbose=0, random_state=111))\n",
    "\n",
    "random_search = RandomizedSearchCV(pipe,\n",
    "                  random_state = 111,                 \n",
    "                  param_distributions = param_dist, \n",
    "                  n_iter=10, \n",
    "                  return_train_score=True)\n",
    "\n",
    "random_search.fit(X_train, y_train_enc)\n",
    "cb_best_score = random_search.best_score_\n",
    "cb_best_params = random_search.best_params_\n",
    "print(cb_best_score)\n",
    "print(cb_best_params)"
   ]
  },
  {
   "cell_type": "code",
   "execution_count": 53,
   "id": "69d2b3c0-5647-4b9c-b33d-29e725173c4f",
   "metadata": {},
   "outputs": [
    {
     "name": "stderr",
     "output_type": "stream",
     "text": [
      "C:\\Users\\simar\\AppData\\Local\\Temp\\ipykernel_11636\\2179986651.py:29: FutureWarning: Series.__getitem__ treating keys as positions is deprecated. In a future version, integer keys will always be treated as labels (consistent with DataFrame behavior). To access a value by position, use `ser.iloc[pos]`\n",
      "  out_col.append((f\"%0.3f (+/- %0.3f)\" % (mean_scores[i], std_scores[i])))\n"
     ]
    },
    {
     "data": {
      "text/html": [
       "<div>\n",
       "<style scoped>\n",
       "    .dataframe tbody tr th:only-of-type {\n",
       "        vertical-align: middle;\n",
       "    }\n",
       "\n",
       "    .dataframe tbody tr th {\n",
       "        vertical-align: top;\n",
       "    }\n",
       "\n",
       "    .dataframe thead th {\n",
       "        text-align: right;\n",
       "    }\n",
       "</style>\n",
       "<table border=\"1\" class=\"dataframe\">\n",
       "  <thead>\n",
       "    <tr style=\"text-align: right;\">\n",
       "      <th></th>\n",
       "      <th>fit_time</th>\n",
       "      <th>score_time</th>\n",
       "      <th>test_score</th>\n",
       "      <th>train_score</th>\n",
       "    </tr>\n",
       "  </thead>\n",
       "  <tbody>\n",
       "    <tr>\n",
       "      <th>dummy</th>\n",
       "      <td>0.001 (+/- 0.002)</td>\n",
       "      <td>0.001 (+/- 0.003)</td>\n",
       "      <td>0.626 (+/- 0.006)</td>\n",
       "      <td>0.626 (+/- 0.001)</td>\n",
       "    </tr>\n",
       "    <tr>\n",
       "      <th>LogisticRegression</th>\n",
       "      <td>0.014 (+/- 0.004)</td>\n",
       "      <td>0.004 (+/- 0.003)</td>\n",
       "      <td>0.921 (+/- 0.019)</td>\n",
       "      <td>0.945 (+/- 0.008)</td>\n",
       "    </tr>\n",
       "    <tr>\n",
       "      <th>RandomForestClassifier</th>\n",
       "      <td>0.017 (+/- 0.001)</td>\n",
       "      <td>0.010 (+/- 0.001)</td>\n",
       "      <td>0.964 (+/- 0.025)</td>\n",
       "      <td>0.997 (+/- 0.003)</td>\n",
       "    </tr>\n",
       "    <tr>\n",
       "      <th>CatBoostClassifier</th>\n",
       "      <td>4.417 (+/- 0.179)</td>\n",
       "      <td>0.007 (+/- 0.001)</td>\n",
       "      <td>0.977 (+/- 0.019)</td>\n",
       "      <td>1.000 (+/- 0.000)</td>\n",
       "    </tr>\n",
       "  </tbody>\n",
       "</table>\n",
       "</div>"
      ],
      "text/plain": [
       "                                 fit_time         score_time  \\\n",
       "dummy                   0.001 (+/- 0.002)  0.001 (+/- 0.003)   \n",
       "LogisticRegression      0.014 (+/- 0.004)  0.004 (+/- 0.003)   \n",
       "RandomForestClassifier  0.017 (+/- 0.001)  0.010 (+/- 0.001)   \n",
       "CatBoostClassifier      4.417 (+/- 0.179)  0.007 (+/- 0.001)   \n",
       "\n",
       "                               test_score        train_score  \n",
       "dummy                   0.626 (+/- 0.006)  0.626 (+/- 0.001)  \n",
       "LogisticRegression      0.921 (+/- 0.019)  0.945 (+/- 0.008)  \n",
       "RandomForestClassifier  0.964 (+/- 0.025)  0.997 (+/- 0.003)  \n",
       "CatBoostClassifier      0.977 (+/- 0.019)  1.000 (+/- 0.000)  "
      ]
     },
     "metadata": {},
     "output_type": "display_data"
    }
   ],
   "source": [
    "cb = make_pipeline(preprocessor, CatBoostClassifier(verbose=0, \n",
    "                                                             random_state=111, \n",
    "                                                             learning_rate = cb_best_params['catboostclassifier__learning_rate'],\n",
    "                                                             max_depth = cb_best_params['catboostclassifier__max_depth']))\n",
    "\n",
    "results[\"CatBoostClassifier\"] = mean_std_cross_val_scores(cb, X_train, y_train, cv=5, return_train_score=True)\n",
    "display(pd.DataFrame(results).T)"
   ]
  },
  {
   "cell_type": "markdown",
   "id": "1d0ef9fc-7a17-442b-85ed-63af88025d6a",
   "metadata": {},
   "source": [
    "## Final Model"
   ]
  },
  {
   "cell_type": "markdown",
   "id": "e0492f1c-4c41-4553-9303-d25022ff4953",
   "metadata": {},
   "source": [
    "After determining that `CatBoostClassifier` seems to perform the best out of the models tried, I will test its performance on the test data."
   ]
  },
  {
   "cell_type": "code",
   "execution_count": 54,
   "id": "d37de552-b4f9-4f96-9c72-25937c161a0e",
   "metadata": {},
   "outputs": [
    {
     "name": "stdout",
     "output_type": "stream",
     "text": [
      "0.9692307692307692\n"
     ]
    }
   ],
   "source": [
    "final_model = make_pipeline(preprocessor, CatBoostClassifier(verbose=0, \n",
    "                                                             random_state=111, \n",
    "                                                             learning_rate = cb_best_params['catboostclassifier__learning_rate'],\n",
    "                                                             max_depth = cb_best_params['catboostclassifier__max_depth']))\n",
    "final_model.fit(X_train, y_train_enc)\n",
    "test_score = final_model.score(X_test, y_test_enc)\n",
    "print(test_score)"
   ]
  },
  {
   "cell_type": "code",
   "execution_count": 56,
   "id": "6568a310-945e-4998-97c0-10a8f240e2da",
   "metadata": {},
   "outputs": [
    {
     "data": {
      "image/png": "[encoded data removed]",
      "text/plain": [
       "<Figure size 640x480 with 2 Axes>"
      ]
     },
     "metadata": {},
     "output_type": "display_data"
    }
   ],
   "source": [
    "from sklearn.metrics import ConfusionMatrixDisplay\n",
    "matrix = confusion_matrix(y_train_enc, final_model.predict(X_train))\n",
    "disp = ConfusionMatrixDisplay(confusion_matrix=matrix)\n",
    "disp.plot()\n",
    "plt.show()"
   ]
  },
  {
   "cell_type": "code",
   "execution_count": null,
   "id": "2ce9e5a3-15b3-4712-8d78-908aa987238f",
   "metadata": {},
   "outputs": [],
   "source": []
  }
 ],
 "metadata": {
  "kernelspec": {
   "display_name": "Python 3 (ipykernel)",
   "language": "python",
   "name": "python3"
  },
  "language_info": {
   "codemirror_mode": {
    "name": "ipython",
    "version": 3
   },
   "file_extension": ".py",
   "mimetype": "text/x-python",
   "name": "python",
   "nbconvert_exporter": "python",
   "pygments_lexer": "ipython3",
   "version": "3.9.18"
  }
 },
 "nbformat": 4,
 "nbformat_minor": 5
}
