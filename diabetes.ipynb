{
 "cells": [
  {
   "cell_type": "code",
   "execution_count": 1,
   "id": "c7c2954b-0f2e-4e21-86ea-cc72ba15322f",
   "metadata": {},
   "outputs": [],
   "source": [
    "import matplotlib.pyplot as plt\n",
    "import numpy as np\n",
    "import pandas as pd\n",
    "from sklearn.compose import ColumnTransformer, make_column_transformer\n",
    "from sklearn.naive_bayes import GaussianNB\n",
    "from sklearn.linear_model import LogisticRegression\n",
    "from sklearn.ensemble import RandomForestClassifier\n",
    "from sklearn.metrics import confusion_matrix\n",
    "from sklearn.metrics import ConfusionMatrixDisplay\n",
    "from sklearn.model_selection import (\n",
    "    RandomizedSearchCV,\n",
    "    cross_val_predict,\n",
    "    cross_val_score,\n",
    "    cross_validate,\n",
    "    train_test_split,\n",
    ")\n",
    "from sklearn.pipeline import Pipeline, make_pipeline\n",
    "from sklearn.preprocessing import (\n",
    "    FunctionTransformer,\n",
    "    OneHotEncoder,\n",
    "    StandardScaler\n",
    ")\n",
    "from sklearn.preprocessing import LabelEncoder\n",
    "from catboost import CatBoostClassifier"
   ]
  },
  {
   "cell_type": "markdown",
   "id": "1d38669e-cd15-4753-bd4b-d54d2285ca1e",
   "metadata": {},
   "source": [
    "# Predicting Diabetes Based on Key Symptoms"
   ]
  },
  {
   "cell_type": "markdown",
   "id": "5fa3a346-6659-468b-9eb7-abfdce33434c",
   "metadata": {},
   "source": [
    "The dataset used for this analysis is available on Kaggle: [Early Stage Diabetes Risk Prediction](https://www.kaggle.com/datasets/abdelazizsami/early-stage-diabetes-risk-prediction). I begin by loading it into a pandas dataframe."
   ]
  },
  {
   "cell_type": "code",
   "execution_count": 2,
   "id": "9b4cddd3-b561-427d-9057-6a78070e9406",
   "metadata": {},
   "outputs": [
    {
     "data": {
      "text/html": [
       "<div>\n",
       "<style scoped>\n",
       "    .dataframe tbody tr th:only-of-type {\n",
       "        vertical-align: middle;\n",
       "    }\n",
       "\n",
       "    .dataframe tbody tr th {\n",
       "        vertical-align: top;\n",
       "    }\n",
       "\n",
       "    .dataframe thead th {\n",
       "        text-align: right;\n",
       "    }\n",
       "</style>\n",
       "<table border=\"1\" class=\"dataframe\">\n",
       "  <thead>\n",
       "    <tr style=\"text-align: right;\">\n",
       "      <th></th>\n",
       "      <th>Age</th>\n",
       "      <th>Gender</th>\n",
       "      <th>Polyuria</th>\n",
       "      <th>Polydipsia</th>\n",
       "      <th>sudden weight loss</th>\n",
       "      <th>weakness</th>\n",
       "      <th>Polyphagia</th>\n",
       "      <th>Genital thrush</th>\n",
       "      <th>visual blurring</th>\n",
       "      <th>Itching</th>\n",
       "      <th>Irritability</th>\n",
       "      <th>delayed healing</th>\n",
       "      <th>partial paresis</th>\n",
       "      <th>muscle stiffness</th>\n",
       "      <th>Alopecia</th>\n",
       "      <th>Obesity</th>\n",
       "      <th>class</th>\n",
       "    </tr>\n",
       "  </thead>\n",
       "  <tbody>\n",
       "    <tr>\n",
       "      <th>367</th>\n",
       "      <td>40</td>\n",
       "      <td>Female</td>\n",
       "      <td>Yes</td>\n",
       "      <td>Yes</td>\n",
       "      <td>Yes</td>\n",
       "      <td>Yes</td>\n",
       "      <td>No</td>\n",
       "      <td>No</td>\n",
       "      <td>Yes</td>\n",
       "      <td>No</td>\n",
       "      <td>No</td>\n",
       "      <td>Yes</td>\n",
       "      <td>Yes</td>\n",
       "      <td>Yes</td>\n",
       "      <td>No</td>\n",
       "      <td>No</td>\n",
       "      <td>Positive</td>\n",
       "    </tr>\n",
       "    <tr>\n",
       "      <th>145</th>\n",
       "      <td>61</td>\n",
       "      <td>Male</td>\n",
       "      <td>Yes</td>\n",
       "      <td>No</td>\n",
       "      <td>No</td>\n",
       "      <td>Yes</td>\n",
       "      <td>Yes</td>\n",
       "      <td>Yes</td>\n",
       "      <td>Yes</td>\n",
       "      <td>Yes</td>\n",
       "      <td>Yes</td>\n",
       "      <td>Yes</td>\n",
       "      <td>Yes</td>\n",
       "      <td>No</td>\n",
       "      <td>No</td>\n",
       "      <td>No</td>\n",
       "      <td>Positive</td>\n",
       "    </tr>\n",
       "    <tr>\n",
       "      <th>258</th>\n",
       "      <td>35</td>\n",
       "      <td>Female</td>\n",
       "      <td>Yes</td>\n",
       "      <td>Yes</td>\n",
       "      <td>Yes</td>\n",
       "      <td>Yes</td>\n",
       "      <td>Yes</td>\n",
       "      <td>No</td>\n",
       "      <td>Yes</td>\n",
       "      <td>Yes</td>\n",
       "      <td>No</td>\n",
       "      <td>Yes</td>\n",
       "      <td>Yes</td>\n",
       "      <td>Yes</td>\n",
       "      <td>No</td>\n",
       "      <td>No</td>\n",
       "      <td>Positive</td>\n",
       "    </tr>\n",
       "    <tr>\n",
       "      <th>238</th>\n",
       "      <td>72</td>\n",
       "      <td>Male</td>\n",
       "      <td>No</td>\n",
       "      <td>No</td>\n",
       "      <td>No</td>\n",
       "      <td>No</td>\n",
       "      <td>Yes</td>\n",
       "      <td>No</td>\n",
       "      <td>Yes</td>\n",
       "      <td>Yes</td>\n",
       "      <td>No</td>\n",
       "      <td>Yes</td>\n",
       "      <td>No</td>\n",
       "      <td>Yes</td>\n",
       "      <td>Yes</td>\n",
       "      <td>No</td>\n",
       "      <td>Negative</td>\n",
       "    </tr>\n",
       "    <tr>\n",
       "      <th>517</th>\n",
       "      <td>58</td>\n",
       "      <td>Female</td>\n",
       "      <td>Yes</td>\n",
       "      <td>Yes</td>\n",
       "      <td>Yes</td>\n",
       "      <td>Yes</td>\n",
       "      <td>Yes</td>\n",
       "      <td>No</td>\n",
       "      <td>Yes</td>\n",
       "      <td>No</td>\n",
       "      <td>No</td>\n",
       "      <td>No</td>\n",
       "      <td>Yes</td>\n",
       "      <td>Yes</td>\n",
       "      <td>No</td>\n",
       "      <td>Yes</td>\n",
       "      <td>Positive</td>\n",
       "    </tr>\n",
       "  </tbody>\n",
       "</table>\n",
       "</div>"
      ],
      "text/plain": [
       "     Age  Gender Polyuria Polydipsia sudden weight loss weakness Polyphagia  \\\n",
       "367   40  Female      Yes        Yes                Yes      Yes         No   \n",
       "145   61    Male      Yes         No                 No      Yes        Yes   \n",
       "258   35  Female      Yes        Yes                Yes      Yes        Yes   \n",
       "238   72    Male       No         No                 No       No        Yes   \n",
       "517   58  Female      Yes        Yes                Yes      Yes        Yes   \n",
       "\n",
       "    Genital thrush visual blurring Itching Irritability delayed healing  \\\n",
       "367             No             Yes      No           No             Yes   \n",
       "145            Yes             Yes     Yes          Yes             Yes   \n",
       "258             No             Yes     Yes           No             Yes   \n",
       "238             No             Yes     Yes           No             Yes   \n",
       "517             No             Yes      No           No              No   \n",
       "\n",
       "    partial paresis muscle stiffness Alopecia Obesity     class  \n",
       "367             Yes              Yes       No      No  Positive  \n",
       "145             Yes               No       No      No  Positive  \n",
       "258             Yes              Yes       No      No  Positive  \n",
       "238              No              Yes      Yes      No  Negative  \n",
       "517             Yes              Yes       No     Yes  Positive  "
      ]
     },
     "execution_count": 2,
     "metadata": {},
     "output_type": "execute_result"
    }
   ],
   "source": [
    "df = pd.read_csv(\"diabetes.csv\")\n",
    "train_df, test_df = train_test_split(df, random_state=111)\n",
    "train_df.head()"
   ]
  },
  {
   "cell_type": "markdown",
   "id": "119b63e6-6bb8-4d8c-93a1-03a90602751c",
   "metadata": {},
   "source": [
    "## Data Exploration"
   ]
  },
  {
   "cell_type": "markdown",
   "id": "c9d71ff3-0b6e-4362-9d85-d607cd8f189e",
   "metadata": {},
   "source": [
    "First, I want to check what the data type of each feature is, as well as check for any missing values."
   ]
  },
  {
   "cell_type": "code",
   "execution_count": 3,
   "id": "938cb84f-0af2-4979-a42d-353b5be23d9c",
   "metadata": {},
   "outputs": [
    {
     "name": "stdout",
     "output_type": "stream",
     "text": [
      "<class 'pandas.core.frame.DataFrame'>\n",
      "Index: 390 entries, 367 to 86\n",
      "Data columns (total 17 columns):\n",
      " #   Column              Non-Null Count  Dtype \n",
      "---  ------              --------------  ----- \n",
      " 0   Age                 390 non-null    int64 \n",
      " 1   Gender              390 non-null    object\n",
      " 2   Polyuria            390 non-null    object\n",
      " 3   Polydipsia          390 non-null    object\n",
      " 4   sudden weight loss  390 non-null    object\n",
      " 5   weakness            390 non-null    object\n",
      " 6   Polyphagia          390 non-null    object\n",
      " 7   Genital thrush      390 non-null    object\n",
      " 8   visual blurring     390 non-null    object\n",
      " 9   Itching             390 non-null    object\n",
      " 10  Irritability        390 non-null    object\n",
      " 11  delayed healing     390 non-null    object\n",
      " 12  partial paresis     390 non-null    object\n",
      " 13  muscle stiffness    390 non-null    object\n",
      " 14  Alopecia            390 non-null    object\n",
      " 15  Obesity             390 non-null    object\n",
      " 16  class               390 non-null    object\n",
      "dtypes: int64(1), object(16)\n",
      "memory usage: 54.8+ KB\n"
     ]
    }
   ],
   "source": [
    "train_df.info()"
   ]
  },
  {
   "cell_type": "markdown",
   "id": "5c8df533-e69c-4f98-a5fa-67d8858d1792",
   "metadata": {},
   "source": [
    "Since none of the features are missing any values, there is no need for imputation for any of the features. It looks like `Age` is a numeric feature, and everything else is a binary feature representing whether a particular symptom was observed. None of the features seem to be unique identifiers (e.g. patient IDs). For my analysis, I will be trying to predict `class` which denotes whether the individual with that particular set of symptoms was diagnosed with diabetes."
   ]
  },
  {
   "cell_type": "markdown",
   "id": "933cd17d-8a15-46b6-bf09-6a009362eafa",
   "metadata": {},
   "source": [
    "Also, it is important to check whether the distribution of the target (`class`) is highly skewed. If most of the people recorded didn't have diabetes, for example, even a poor model that always predicts a negative status could still have high accuracy, which makes the metric less useful."
   ]
  },
  {
   "cell_type": "code",
   "execution_count": 4,
   "id": "9a58b736-e3e4-4747-8bb3-94723692df3b",
   "metadata": {},
   "outputs": [
    {
     "data": {
      "text/plain": [
       "class\n",
       "Positive    244\n",
       "Negative    146\n",
       "Name: count, dtype: int64"
      ]
     },
     "execution_count": 4,
     "metadata": {},
     "output_type": "execute_result"
    }
   ],
   "source": [
    "train_df['class'].value_counts()"
   ]
  },
  {
   "cell_type": "markdown",
   "id": "a117a4de-8882-42d1-9065-4ec633a6f71b",
   "metadata": {},
   "source": [
    "There is some skew (63% of the patients were positive for diabetes), but fortunately it doesn't seem to be severe enough to make accuracy (the default metric) unsuitable. I will proceed with accuracy as the metric for my analysis."
   ]
  },
  {
   "cell_type": "markdown",
   "id": "7de55b49-6fbf-47c4-a894-8df5ae902493",
   "metadata": {},
   "source": [
    "Before moving on, I also want to see some basic statistical information about the sole numerical feature, `Age`."
   ]
  },
  {
   "cell_type": "code",
   "execution_count": 5,
   "id": "14750119-61e0-4d2e-9f4e-b98fb83baeeb",
   "metadata": {},
   "outputs": [
    {
     "data": {
      "text/html": [
       "<div>\n",
       "<style scoped>\n",
       "    .dataframe tbody tr th:only-of-type {\n",
       "        vertical-align: middle;\n",
       "    }\n",
       "\n",
       "    .dataframe tbody tr th {\n",
       "        vertical-align: top;\n",
       "    }\n",
       "\n",
       "    .dataframe thead th {\n",
       "        text-align: right;\n",
       "    }\n",
       "</style>\n",
       "<table border=\"1\" class=\"dataframe\">\n",
       "  <thead>\n",
       "    <tr style=\"text-align: right;\">\n",
       "      <th></th>\n",
       "      <th>Age</th>\n",
       "    </tr>\n",
       "  </thead>\n",
       "  <tbody>\n",
       "    <tr>\n",
       "      <th>count</th>\n",
       "      <td>390.000000</td>\n",
       "    </tr>\n",
       "    <tr>\n",
       "      <th>mean</th>\n",
       "      <td>48.394872</td>\n",
       "    </tr>\n",
       "    <tr>\n",
       "      <th>std</th>\n",
       "      <td>12.054844</td>\n",
       "    </tr>\n",
       "    <tr>\n",
       "      <th>min</th>\n",
       "      <td>25.000000</td>\n",
       "    </tr>\n",
       "    <tr>\n",
       "      <th>25%</th>\n",
       "      <td>39.000000</td>\n",
       "    </tr>\n",
       "    <tr>\n",
       "      <th>50%</th>\n",
       "      <td>48.000000</td>\n",
       "    </tr>\n",
       "    <tr>\n",
       "      <th>75%</th>\n",
       "      <td>57.000000</td>\n",
       "    </tr>\n",
       "    <tr>\n",
       "      <th>max</th>\n",
       "      <td>90.000000</td>\n",
       "    </tr>\n",
       "  </tbody>\n",
       "</table>\n",
       "</div>"
      ],
      "text/plain": [
       "              Age\n",
       "count  390.000000\n",
       "mean    48.394872\n",
       "std     12.054844\n",
       "min     25.000000\n",
       "25%     39.000000\n",
       "50%     48.000000\n",
       "75%     57.000000\n",
       "max     90.000000"
      ]
     },
     "execution_count": 5,
     "metadata": {},
     "output_type": "execute_result"
    }
   ],
   "source": [
    "train_df.describe()"
   ]
  },
  {
   "cell_type": "markdown",
   "id": "f83cfbbe-bd93-439f-9088-9392b99b3502",
   "metadata": {},
   "source": [
    "It looks like a lot of the patients in the dataset are relatively older than the general population, with a median age of 48 for the training dataset. Let's also take a look at the distributions for both groups."
   ]
  },
  {
   "cell_type": "code",
   "execution_count": 6,
   "id": "a28a06bf-6f68-4cfc-89e2-c7a1ee7dbd25",
   "metadata": {},
   "outputs": [
    {
     "data": {
      "image/png": "[encoded data removed]",
      "text/plain": [
       "<Figure size 640x480 with 1 Axes>"
      ]
     },
     "metadata": {},
     "output_type": "display_data"
    }
   ],
   "source": [
    "ax = train_df.groupby(\"class\")[\"Age\"].plot.hist(bins=25, alpha=0.8, legend=True)\n",
    "plt.xlabel(\"Age\")\n",
    "plt.title(\"Histogram of Age\")\n",
    "plt.show()"
   ]
  },
  {
   "cell_type": "markdown",
   "id": "e35cdfe1-32fe-4e2a-a2a0-c5fd73ab5481",
   "metadata": {},
   "source": [
    "From the distribution, it does look like there is a significant difference in the distribution for the group that tested negative for diabetes compared to the group that tested positive. This suggests that `Age` does have some sort of correlation with diabetes status, so I'll retain it as a feature."
   ]
  },
  {
   "cell_type": "markdown",
   "id": "b17f9734-4bed-4335-97ed-90f9452901b2",
   "metadata": {},
   "source": [
    "The remaining features are all binary (gender is treated as binary in this dataset). Before proceeding with the analysis, I'll first check to see if there are also differences in diabetes status based on gender."
   ]
  },
  {
   "cell_type": "code",
   "execution_count": 7,
   "id": "7cd6f4e5-1110-480e-a0ca-267be0d45c6d",
   "metadata": {},
   "outputs": [
    {
     "data": {
      "text/plain": [
       "Gender\n",
       "Male      238\n",
       "Female    152\n",
       "Name: count, dtype: int64"
      ]
     },
     "execution_count": 7,
     "metadata": {},
     "output_type": "execute_result"
    }
   ],
   "source": [
    "train_df[\"Gender\"].value_counts()"
   ]
  },
  {
   "cell_type": "markdown",
   "id": "0711bf4c-31f6-45ad-aa80-d37f12f250d6",
   "metadata": {},
   "source": [
    "There are significantly more men in the dataset than there are women (also a notable bias for later generalizability). Now I'll look at the breakdown based on gender and diabetes status."
   ]
  },
  {
   "cell_type": "code",
   "execution_count": 8,
   "id": "47a4406b-9638-4130-b474-2c9df9fcd8a9",
   "metadata": {},
   "outputs": [
    {
     "data": {
      "image/png": "[encoded data removed]",
      "text/plain": [
       "<Figure size 640x480 with 1 Axes>"
      ]
     },
     "metadata": {},
     "output_type": "display_data"
    }
   ],
   "source": [
    "ax = train_df.groupby(\"class\")[\"Gender\"].value_counts().plot(kind='bar')\n",
    "plt.title(\"Bar Plot of Gender\")\n",
    "plt.show()"
   ]
  },
  {
   "cell_type": "markdown",
   "id": "5e8b2886-0ac7-4c1e-b932-65acbb0db119",
   "metadata": {},
   "source": [
    "Even though there were fewer total women in the dataset, more women tested positive overall than men. It looks like women in this dataset were much more likely to be positive for diabetes, which does suggest that `Gender` will be a useful feature for prediction. The remaining features are all diagnostic symptoms of diabetes and therefore have existing evidence to suggest that they will be relevant. With the relevant features determined, I will begin preprocessing the data."
   ]
  },
  {
   "cell_type": "markdown",
   "id": "ae1694c5-bdca-421f-a0ef-4ec1322c9320",
   "metadata": {},
   "source": [
    "## Data Preprocessing"
   ]
  },
  {
   "cell_type": "markdown",
   "id": "d851b2e9-4321-42f0-a407-858e2d314d3f",
   "metadata": {},
   "source": [
    "After the exploration above, all the features included in the original dataset seem to be relevant. There is one numeric feature, `Age`, and 15 binary features. The target is `class`, which is also a binary feature representing whether patient was diagnosed with diabetes."
   ]
  },
  {
   "cell_type": "code",
   "execution_count": 9,
   "id": "b590753e-2cb5-4287-bbb9-72a631d53c51",
   "metadata": {},
   "outputs": [],
   "source": [
    "numeric_features = [\"Age\"]\n",
    "target_column = [\"class\"]\n",
    "binary_features = list(\n",
    "    set(train_df.columns)\n",
    "    - set(numeric_features)\n",
    "    - set(target_column)\n",
    ")"
   ]
  },
  {
   "cell_type": "markdown",
   "id": "6a629171-9129-4d12-a438-6fb3cf40187c",
   "metadata": {},
   "source": [
    "To preprocess the data, I'll use `StandardScaler` on the numeric feature so that the magnitude doesn't affect the analysis (not relevant for some models). For the remaining models, I'll use the `OneHotEncoder` with `drop = \"if_binary\"` so that the text entries (\"Yes\" and \"No\") are replaced with a numerical representation."
   ]
  },
  {
   "cell_type": "code",
   "execution_count": 10,
   "id": "02f440d4-24d4-4271-98ba-7dced9907040",
   "metadata": {},
   "outputs": [],
   "source": [
    "preprocessor = make_column_transformer(\n",
    "    (StandardScaler(), numeric_features),\n",
    "    (OneHotEncoder(drop = \"if_binary\"), binary_features),\n",
    ")"
   ]
  },
  {
   "cell_type": "markdown",
   "id": "c92239c9-44e1-4c65-83c8-7575a98be397",
   "metadata": {},
   "source": [
    "To see what the data looks like after processing, I'll fit it here:"
   ]
  },
  {
   "cell_type": "code",
   "execution_count": 11,
   "id": "ab10044f-a6a0-4cb0-9ecc-4fa7cf6649e0",
   "metadata": {},
   "outputs": [],
   "source": [
    "preprocessor.fit(train_df)\n",
    "\n",
    "X_train_enc = pd.DataFrame(\n",
    "    preprocessor.transform(train_df), index=train_df.index, columns = (numeric_features + binary_features)\n",
    ")\n",
    "\n",
    "X_test_enc = pd.DataFrame(\n",
    "    preprocessor.transform(train_df), index=train_df.index, columns = (numeric_features + binary_features)\n",
    ")"
   ]
  },
  {
   "cell_type": "markdown",
   "id": "ac499eb1-c8c3-41da-b018-e8c498d40bfa",
   "metadata": {},
   "source": [
    "At this point, I will also use `LabelEncoder` to transform the target, `class`, from text answers to a numerical representation (necessary for certain models)."
   ]
  },
  {
   "cell_type": "code",
   "execution_count": 12,
   "id": "366c15cb-6e07-4e60-8b44-3652ceaa1f41",
   "metadata": {},
   "outputs": [],
   "source": [
    "le = LabelEncoder()\n",
    "y_train = train_df['class']\n",
    "y_test = test_df['class']\n",
    "y_train_enc = le.fit_transform(y_train)\n",
    "y_test_enc = le.transform(y_test)"
   ]
  },
  {
   "cell_type": "markdown",
   "id": "1d011d41-714a-4a9d-b51e-03213150221c",
   "metadata": {},
   "source": [
    "A quick look at the processed data:"
   ]
  },
  {
   "cell_type": "code",
   "execution_count": 13,
   "id": "8353a58a-7f22-4337-b5ae-e547d67136ad",
   "metadata": {},
   "outputs": [
    {
     "data": {
      "text/html": [
       "<div>\n",
       "<style scoped>\n",
       "    .dataframe tbody tr th:only-of-type {\n",
       "        vertical-align: middle;\n",
       "    }\n",
       "\n",
       "    .dataframe tbody tr th {\n",
       "        vertical-align: top;\n",
       "    }\n",
       "\n",
       "    .dataframe thead th {\n",
       "        text-align: right;\n",
       "    }\n",
       "</style>\n",
       "<table border=\"1\" class=\"dataframe\">\n",
       "  <thead>\n",
       "    <tr style=\"text-align: right;\">\n",
       "      <th></th>\n",
       "      <th>Age</th>\n",
       "      <th>sudden weight loss</th>\n",
       "      <th>Polyphagia</th>\n",
       "      <th>visual blurring</th>\n",
       "      <th>Irritability</th>\n",
       "      <th>Obesity</th>\n",
       "      <th>Itching</th>\n",
       "      <th>partial paresis</th>\n",
       "      <th>Alopecia</th>\n",
       "      <th>delayed healing</th>\n",
       "      <th>Polyuria</th>\n",
       "      <th>muscle stiffness</th>\n",
       "      <th>Gender</th>\n",
       "      <th>Polydipsia</th>\n",
       "      <th>Genital thrush</th>\n",
       "      <th>weakness</th>\n",
       "    </tr>\n",
       "  </thead>\n",
       "  <tbody>\n",
       "    <tr>\n",
       "      <th>367</th>\n",
       "      <td>-0.697284</td>\n",
       "      <td>1.0</td>\n",
       "      <td>0.0</td>\n",
       "      <td>1.0</td>\n",
       "      <td>0.0</td>\n",
       "      <td>0.0</td>\n",
       "      <td>0.0</td>\n",
       "      <td>1.0</td>\n",
       "      <td>0.0</td>\n",
       "      <td>1.0</td>\n",
       "      <td>1.0</td>\n",
       "      <td>1.0</td>\n",
       "      <td>0.0</td>\n",
       "      <td>1.0</td>\n",
       "      <td>0.0</td>\n",
       "      <td>1.0</td>\n",
       "    </tr>\n",
       "    <tr>\n",
       "      <th>145</th>\n",
       "      <td>1.046992</td>\n",
       "      <td>0.0</td>\n",
       "      <td>1.0</td>\n",
       "      <td>1.0</td>\n",
       "      <td>1.0</td>\n",
       "      <td>0.0</td>\n",
       "      <td>1.0</td>\n",
       "      <td>1.0</td>\n",
       "      <td>0.0</td>\n",
       "      <td>1.0</td>\n",
       "      <td>1.0</td>\n",
       "      <td>0.0</td>\n",
       "      <td>1.0</td>\n",
       "      <td>0.0</td>\n",
       "      <td>1.0</td>\n",
       "      <td>1.0</td>\n",
       "    </tr>\n",
       "    <tr>\n",
       "      <th>258</th>\n",
       "      <td>-1.112588</td>\n",
       "      <td>1.0</td>\n",
       "      <td>1.0</td>\n",
       "      <td>1.0</td>\n",
       "      <td>0.0</td>\n",
       "      <td>0.0</td>\n",
       "      <td>1.0</td>\n",
       "      <td>1.0</td>\n",
       "      <td>0.0</td>\n",
       "      <td>1.0</td>\n",
       "      <td>1.0</td>\n",
       "      <td>1.0</td>\n",
       "      <td>0.0</td>\n",
       "      <td>1.0</td>\n",
       "      <td>0.0</td>\n",
       "      <td>1.0</td>\n",
       "    </tr>\n",
       "    <tr>\n",
       "      <th>238</th>\n",
       "      <td>1.960660</td>\n",
       "      <td>0.0</td>\n",
       "      <td>1.0</td>\n",
       "      <td>1.0</td>\n",
       "      <td>0.0</td>\n",
       "      <td>0.0</td>\n",
       "      <td>1.0</td>\n",
       "      <td>0.0</td>\n",
       "      <td>1.0</td>\n",
       "      <td>1.0</td>\n",
       "      <td>0.0</td>\n",
       "      <td>1.0</td>\n",
       "      <td>1.0</td>\n",
       "      <td>0.0</td>\n",
       "      <td>0.0</td>\n",
       "      <td>0.0</td>\n",
       "    </tr>\n",
       "    <tr>\n",
       "      <th>517</th>\n",
       "      <td>0.797809</td>\n",
       "      <td>1.0</td>\n",
       "      <td>1.0</td>\n",
       "      <td>1.0</td>\n",
       "      <td>0.0</td>\n",
       "      <td>1.0</td>\n",
       "      <td>0.0</td>\n",
       "      <td>1.0</td>\n",
       "      <td>0.0</td>\n",
       "      <td>0.0</td>\n",
       "      <td>1.0</td>\n",
       "      <td>1.0</td>\n",
       "      <td>0.0</td>\n",
       "      <td>1.0</td>\n",
       "      <td>0.0</td>\n",
       "      <td>1.0</td>\n",
       "    </tr>\n",
       "  </tbody>\n",
       "</table>\n",
       "</div>"
      ],
      "text/plain": [
       "          Age  sudden weight loss  Polyphagia  visual blurring  Irritability  \\\n",
       "367 -0.697284                 1.0         0.0              1.0           0.0   \n",
       "145  1.046992                 0.0         1.0              1.0           1.0   \n",
       "258 -1.112588                 1.0         1.0              1.0           0.0   \n",
       "238  1.960660                 0.0         1.0              1.0           0.0   \n",
       "517  0.797809                 1.0         1.0              1.0           0.0   \n",
       "\n",
       "     Obesity  Itching  partial paresis  Alopecia  delayed healing  Polyuria  \\\n",
       "367      0.0      0.0              1.0       0.0              1.0       1.0   \n",
       "145      0.0      1.0              1.0       0.0              1.0       1.0   \n",
       "258      0.0      1.0              1.0       0.0              1.0       1.0   \n",
       "238      0.0      1.0              0.0       1.0              1.0       0.0   \n",
       "517      1.0      0.0              1.0       0.0              0.0       1.0   \n",
       "\n",
       "     muscle stiffness  Gender  Polydipsia  Genital thrush  weakness  \n",
       "367               1.0     0.0         1.0             0.0       1.0  \n",
       "145               0.0     1.0         0.0             1.0       1.0  \n",
       "258               1.0     0.0         1.0             0.0       1.0  \n",
       "238               1.0     1.0         0.0             0.0       0.0  \n",
       "517               1.0     0.0         1.0             0.0       1.0  "
      ]
     },
     "execution_count": 13,
     "metadata": {},
     "output_type": "execute_result"
    }
   ],
   "source": [
    "X_train_enc.head()"
   ]
  },
  {
   "cell_type": "markdown",
   "id": "17368a98-c451-485b-b7fe-59216858cda3",
   "metadata": {},
   "source": [
    "## Initial Model Selection"
   ]
  },
  {
   "cell_type": "markdown",
   "id": "96200c86-f673-4c38-8f82-3f113c9a8bf0",
   "metadata": {},
   "source": [
    "Below, I have included a useful helper function to store the mean score from performing cross-validation, originally from my machine learning course at UBC. It can be found within the public GitHub repo here: https://github.com/UBC-CS/cpsc330-2023W2/blob/main/hw/hw3/hw3.ipynb. It has been slightly edited to fix a warning."
   ]
  },
  {
   "cell_type": "code",
   "execution_count": 14,
   "id": "0e087a60-ac09-43f6-9d38-e5db995cd93c",
   "metadata": {},
   "outputs": [],
   "source": [
    "# Helper function from CPSC330: Applied Machine Learning at UBC, available here:\n",
    "# https://github.com/UBC-CS/cpsc330-2023W2/blob/main/hw/hw3/hw3.ipynb \n",
    "\n",
    "def mean_std_cross_val_scores(model, X_train, y_train, **kwargs):\n",
    "    \"\"\"\n",
    "    Returns mean and std of cross validation\n",
    "\n",
    "    Parameters\n",
    "    ----------\n",
    "    model :\n",
    "        scikit-learn model\n",
    "    X_train : numpy array or pandas DataFrame\n",
    "        X in the training data\n",
    "    y_train :\n",
    "        y in the training data\n",
    "\n",
    "    Returns\n",
    "    ----------\n",
    "        pandas Series with mean scores from cross_validation\n",
    "    \"\"\"\n",
    "\n",
    "    scores = cross_validate(model, X_train, y_train, **kwargs)\n",
    "\n",
    "    mean_scores = pd.DataFrame(scores).mean()\n",
    "    std_scores = pd.DataFrame(scores).std()\n",
    "    out_col = []\n",
    "\n",
    "    for i in range(len(mean_scores)):\n",
    "        out_col.append((f\"%0.3f (+/- %0.3f)\" % (mean_scores.iloc[i], std_scores.iloc[i])))\n",
    "\n",
    "    return pd.Series(data=out_col, index=mean_scores.index)"
   ]
  },
  {
   "cell_type": "markdown",
   "id": "e510cfbf-2302-4373-80e4-f543394d3298",
   "metadata": {},
   "source": [
    "### Baseline Model"
   ]
  },
  {
   "cell_type": "markdown",
   "id": "2378f9ce-7d9b-42d6-9670-a580fc2b313d",
   "metadata": {},
   "source": [
    "For the baseline, I will use scikit-learn's `GaussianNB` to make an initial prediction with naive Bayes classifier. First, I'll split the dataset into the features and the target, since they'll be going into the preprocessor as part of a pipeline."
   ]
  },
  {
   "cell_type": "code",
   "execution_count": 15,
   "id": "4a6087cf-b4e4-4d0e-85b3-a41c62721944",
   "metadata": {},
   "outputs": [],
   "source": [
    "X_train = train_df.drop(columns=[\"class\"])\n",
    "X_test = test_df.drop(columns=[\"class\"])\n",
    "\n",
    "y_train = train_df[\"class\"]\n",
    "y_test = test_df[\"class\"]"
   ]
  },
  {
   "cell_type": "markdown",
   "id": "5aff3f3c-063d-4196-a4fd-49c012a9152c",
   "metadata": {},
   "source": [
    "Next, I'll grab a summary of the cross-validation scores from the `GaussianNB` classifier."
   ]
  },
  {
   "cell_type": "code",
   "execution_count": 16,
   "id": "50758e42-9bf3-47b3-9746-a1d1a614852d",
   "metadata": {},
   "outputs": [
    {
     "data": {
      "text/html": [
       "<div>\n",
       "<style scoped>\n",
       "    .dataframe tbody tr th:only-of-type {\n",
       "        vertical-align: middle;\n",
       "    }\n",
       "\n",
       "    .dataframe tbody tr th {\n",
       "        vertical-align: top;\n",
       "    }\n",
       "\n",
       "    .dataframe thead th {\n",
       "        text-align: right;\n",
       "    }\n",
       "</style>\n",
       "<table border=\"1\" class=\"dataframe\">\n",
       "  <thead>\n",
       "    <tr style=\"text-align: right;\">\n",
       "      <th></th>\n",
       "      <th>fit_time</th>\n",
       "      <th>score_time</th>\n",
       "      <th>test_score</th>\n",
       "      <th>train_score</th>\n",
       "    </tr>\n",
       "  </thead>\n",
       "  <tbody>\n",
       "    <tr>\n",
       "      <th>GaussianNB (Baseline)</th>\n",
       "      <td>0.006 (+/- 0.009)</td>\n",
       "      <td>0.006 (+/- 0.009)</td>\n",
       "      <td>0.890 (+/- 0.027)</td>\n",
       "      <td>0.900 (+/- 0.016)</td>\n",
       "    </tr>\n",
       "  </tbody>\n",
       "</table>\n",
       "</div>"
      ],
      "text/plain": [
       "                                fit_time         score_time  \\\n",
       "GaussianNB (Baseline)  0.006 (+/- 0.009)  0.006 (+/- 0.009)   \n",
       "\n",
       "                              test_score        train_score  \n",
       "GaussianNB (Baseline)  0.890 (+/- 0.027)  0.900 (+/- 0.016)  "
      ]
     },
     "metadata": {},
     "output_type": "display_data"
    }
   ],
   "source": [
    "results = {}\n",
    "gnb = make_pipeline(preprocessor, GaussianNB())\n",
    "results[\"GaussianNB (Baseline)\"] = mean_std_cross_val_scores(gnb, X_train, y_train, cv=5,return_train_score=True)\n",
    "display(pd.DataFrame(results).T)"
   ]
  },
  {
   "cell_type": "markdown",
   "id": "6efd754a-16b6-4d92-b4bc-f0409e252c2b",
   "metadata": {},
   "source": [
    "With a score of 0.890, the `GaussianNB` model is doing pretty well. I'll take a quick look at the confusion matrix for the model:"
   ]
  },
  {
   "cell_type": "code",
   "execution_count": 17,
   "id": "0253db4a-0130-4619-ad67-59bf11fd5ca7",
   "metadata": {},
   "outputs": [
    {
     "data": {
      "image/png": "[encoded data removed]",
      "text/plain": [
       "<Figure size 640x480 with 2 Axes>"
      ]
     },
     "metadata": {},
     "output_type": "display_data"
    }
   ],
   "source": [
    "base = make_pipeline(preprocessor, GaussianNB())\n",
    "base.fit(X_train, y_train_enc)\n",
    "matrix = confusion_matrix(y_train_enc, base.predict(X_train))\n",
    "disp = ConfusionMatrixDisplay(confusion_matrix=matrix)\n",
    "disp.plot()\n",
    "plt.show()"
   ]
  },
  {
   "cell_type": "markdown",
   "id": "1171a47d-4fc9-44fd-8219-2dbb96c18e3d",
   "metadata": {},
   "source": [
    "From the confusion matrix, it doesn't look like it is having a particularly hard time with false negatives or false positives in particular. Next, I'll try some more complex models to see whether I will be able to get a better score."
   ]
  },
  {
   "cell_type": "markdown",
   "id": "d0ab8ff2-6aa5-4e8d-a226-21ad7a039c25",
   "metadata": {},
   "source": [
    "### Models with Default Hyperparameters"
   ]
  },
  {
   "cell_type": "markdown",
   "id": "59d2b534-48fc-4854-aba7-4402ee34ce53",
   "metadata": {},
   "source": [
    "With a baseline established, a more complex but still interpretable model is `LogisticRegression`, with its default hyperparameters. I'll be looking at its cross-validation performance again."
   ]
  },
  {
   "cell_type": "code",
   "execution_count": 18,
   "id": "4dc544ef-ea6f-4fae-bd92-f2077b635655",
   "metadata": {},
   "outputs": [
    {
     "data": {
      "text/html": [
       "<div>\n",
       "<style scoped>\n",
       "    .dataframe tbody tr th:only-of-type {\n",
       "        vertical-align: middle;\n",
       "    }\n",
       "\n",
       "    .dataframe tbody tr th {\n",
       "        vertical-align: top;\n",
       "    }\n",
       "\n",
       "    .dataframe thead th {\n",
       "        text-align: right;\n",
       "    }\n",
       "</style>\n",
       "<table border=\"1\" class=\"dataframe\">\n",
       "  <thead>\n",
       "    <tr style=\"text-align: right;\">\n",
       "      <th></th>\n",
       "      <th>fit_time</th>\n",
       "      <th>score_time</th>\n",
       "      <th>test_score</th>\n",
       "      <th>train_score</th>\n",
       "    </tr>\n",
       "  </thead>\n",
       "  <tbody>\n",
       "    <tr>\n",
       "      <th>GaussianNB (Baseline)</th>\n",
       "      <td>0.006 (+/- 0.009)</td>\n",
       "      <td>0.006 (+/- 0.009)</td>\n",
       "      <td>0.890 (+/- 0.027)</td>\n",
       "      <td>0.900 (+/- 0.016)</td>\n",
       "    </tr>\n",
       "    <tr>\n",
       "      <th>LogisticRegression (Default)</th>\n",
       "      <td>0.009 (+/- 0.009)</td>\n",
       "      <td>0.009 (+/- 0.009)</td>\n",
       "      <td>0.921 (+/- 0.019)</td>\n",
       "      <td>0.945 (+/- 0.008)</td>\n",
       "    </tr>\n",
       "  </tbody>\n",
       "</table>\n",
       "</div>"
      ],
      "text/plain": [
       "                                       fit_time         score_time  \\\n",
       "GaussianNB (Baseline)         0.006 (+/- 0.009)  0.006 (+/- 0.009)   \n",
       "LogisticRegression (Default)  0.009 (+/- 0.009)  0.009 (+/- 0.009)   \n",
       "\n",
       "                                     test_score        train_score  \n",
       "GaussianNB (Baseline)         0.890 (+/- 0.027)  0.900 (+/- 0.016)  \n",
       "LogisticRegression (Default)  0.921 (+/- 0.019)  0.945 (+/- 0.008)  "
      ]
     },
     "metadata": {},
     "output_type": "display_data"
    }
   ],
   "source": [
    "lr = make_pipeline(preprocessor, LogisticRegression(max_iter=10000))\n",
    "results[\"LogisticRegression (Default)\"] = mean_std_cross_val_scores(lr, X_train, y_train, cv=5,return_train_score=True)\n",
    "display(pd.DataFrame(results).T)"
   ]
  },
  {
   "cell_type": "markdown",
   "id": "7c027bce-72b1-4d3c-9b20-1be5109bda08",
   "metadata": {},
   "source": [
    "Another common model for classification is `RandomForest`. I'll repeat the same steps from the previous classifier, but with the `RandomForestClassifier` instead."
   ]
  },
  {
   "cell_type": "code",
   "execution_count": 19,
   "id": "4d621a4d-1614-486b-9daa-2616e0f9f919",
   "metadata": {},
   "outputs": [
    {
     "data": {
      "text/html": [
       "<div>\n",
       "<style scoped>\n",
       "    .dataframe tbody tr th:only-of-type {\n",
       "        vertical-align: middle;\n",
       "    }\n",
       "\n",
       "    .dataframe tbody tr th {\n",
       "        vertical-align: top;\n",
       "    }\n",
       "\n",
       "    .dataframe thead th {\n",
       "        text-align: right;\n",
       "    }\n",
       "</style>\n",
       "<table border=\"1\" class=\"dataframe\">\n",
       "  <thead>\n",
       "    <tr style=\"text-align: right;\">\n",
       "      <th></th>\n",
       "      <th>fit_time</th>\n",
       "      <th>score_time</th>\n",
       "      <th>test_score</th>\n",
       "      <th>train_score</th>\n",
       "    </tr>\n",
       "  </thead>\n",
       "  <tbody>\n",
       "    <tr>\n",
       "      <th>GaussianNB (Baseline)</th>\n",
       "      <td>0.006 (+/- 0.009)</td>\n",
       "      <td>0.006 (+/- 0.009)</td>\n",
       "      <td>0.890 (+/- 0.027)</td>\n",
       "      <td>0.900 (+/- 0.016)</td>\n",
       "    </tr>\n",
       "    <tr>\n",
       "      <th>LogisticRegression (Default)</th>\n",
       "      <td>0.009 (+/- 0.009)</td>\n",
       "      <td>0.009 (+/- 0.009)</td>\n",
       "      <td>0.921 (+/- 0.019)</td>\n",
       "      <td>0.945 (+/- 0.008)</td>\n",
       "    </tr>\n",
       "    <tr>\n",
       "      <th>RandomForest (Default)</th>\n",
       "      <td>0.538 (+/- 1.023)</td>\n",
       "      <td>0.024 (+/- 0.008)</td>\n",
       "      <td>0.967 (+/- 0.027)</td>\n",
       "      <td>1.000 (+/- 0.000)</td>\n",
       "    </tr>\n",
       "  </tbody>\n",
       "</table>\n",
       "</div>"
      ],
      "text/plain": [
       "                                       fit_time         score_time  \\\n",
       "GaussianNB (Baseline)         0.006 (+/- 0.009)  0.006 (+/- 0.009)   \n",
       "LogisticRegression (Default)  0.009 (+/- 0.009)  0.009 (+/- 0.009)   \n",
       "RandomForest (Default)        0.538 (+/- 1.023)  0.024 (+/- 0.008)   \n",
       "\n",
       "                                     test_score        train_score  \n",
       "GaussianNB (Baseline)         0.890 (+/- 0.027)  0.900 (+/- 0.016)  \n",
       "LogisticRegression (Default)  0.921 (+/- 0.019)  0.945 (+/- 0.008)  \n",
       "RandomForest (Default)        0.967 (+/- 0.027)  1.000 (+/- 0.000)  "
      ]
     },
     "metadata": {},
     "output_type": "display_data"
    }
   ],
   "source": [
    "rf = make_pipeline(preprocessor, RandomForestClassifier(n_jobs=-1))\n",
    "results[\"RandomForest (Default)\"] = mean_std_cross_val_scores(rf, X_train, y_train, cv=5, return_train_score=True)\n",
    "display(pd.DataFrame(results).T)"
   ]
  },
  {
   "cell_type": "markdown",
   "id": "248fbe9f-929d-4be3-878a-59e9557d6ff0",
   "metadata": {},
   "source": [
    "From the cross-validation accuracy, it can be seen`RandomForestClassifier` does offer some performance improvements over both the naive Bayes classifier and `LogisticRegression`. However, it is possible that a gradient-boosted model could still do better, so I will try one more model. Again, I'll be comparing its cross-validation performance with default hyperparameters."
   ]
  },
  {
   "cell_type": "code",
   "execution_count": 20,
   "id": "b4c0ac21-121d-4af1-be8e-063283b81f6e",
   "metadata": {},
   "outputs": [
    {
     "data": {
      "text/html": [
       "<div>\n",
       "<style scoped>\n",
       "    .dataframe tbody tr th:only-of-type {\n",
       "        vertical-align: middle;\n",
       "    }\n",
       "\n",
       "    .dataframe tbody tr th {\n",
       "        vertical-align: top;\n",
       "    }\n",
       "\n",
       "    .dataframe thead th {\n",
       "        text-align: right;\n",
       "    }\n",
       "</style>\n",
       "<table border=\"1\" class=\"dataframe\">\n",
       "  <thead>\n",
       "    <tr style=\"text-align: right;\">\n",
       "      <th></th>\n",
       "      <th>fit_time</th>\n",
       "      <th>score_time</th>\n",
       "      <th>test_score</th>\n",
       "      <th>train_score</th>\n",
       "    </tr>\n",
       "  </thead>\n",
       "  <tbody>\n",
       "    <tr>\n",
       "      <th>GaussianNB (Baseline)</th>\n",
       "      <td>0.006 (+/- 0.009)</td>\n",
       "      <td>0.006 (+/- 0.009)</td>\n",
       "      <td>0.890 (+/- 0.027)</td>\n",
       "      <td>0.900 (+/- 0.016)</td>\n",
       "    </tr>\n",
       "    <tr>\n",
       "      <th>LogisticRegression (Default)</th>\n",
       "      <td>0.009 (+/- 0.009)</td>\n",
       "      <td>0.009 (+/- 0.009)</td>\n",
       "      <td>0.921 (+/- 0.019)</td>\n",
       "      <td>0.945 (+/- 0.008)</td>\n",
       "    </tr>\n",
       "    <tr>\n",
       "      <th>RandomForest (Default)</th>\n",
       "      <td>0.538 (+/- 1.023)</td>\n",
       "      <td>0.024 (+/- 0.008)</td>\n",
       "      <td>0.967 (+/- 0.027)</td>\n",
       "      <td>1.000 (+/- 0.000)</td>\n",
       "    </tr>\n",
       "    <tr>\n",
       "      <th>CatBoost (Default)</th>\n",
       "      <td>1.662 (+/- 0.137)</td>\n",
       "      <td>0.016 (+/- 0.000)</td>\n",
       "      <td>0.967 (+/- 0.025)</td>\n",
       "      <td>1.000 (+/- 0.000)</td>\n",
       "    </tr>\n",
       "  </tbody>\n",
       "</table>\n",
       "</div>"
      ],
      "text/plain": [
       "                                       fit_time         score_time  \\\n",
       "GaussianNB (Baseline)         0.006 (+/- 0.009)  0.006 (+/- 0.009)   \n",
       "LogisticRegression (Default)  0.009 (+/- 0.009)  0.009 (+/- 0.009)   \n",
       "RandomForest (Default)        0.538 (+/- 1.023)  0.024 (+/- 0.008)   \n",
       "CatBoost (Default)            1.662 (+/- 0.137)  0.016 (+/- 0.000)   \n",
       "\n",
       "                                     test_score        train_score  \n",
       "GaussianNB (Baseline)         0.890 (+/- 0.027)  0.900 (+/- 0.016)  \n",
       "LogisticRegression (Default)  0.921 (+/- 0.019)  0.945 (+/- 0.008)  \n",
       "RandomForest (Default)        0.967 (+/- 0.027)  1.000 (+/- 0.000)  \n",
       "CatBoost (Default)            0.967 (+/- 0.025)  1.000 (+/- 0.000)  "
      ]
     },
     "metadata": {},
     "output_type": "display_data"
    }
   ],
   "source": [
    "cb = make_pipeline(preprocessor, CatBoostClassifier(verbose=0, random_state=111))\n",
    "results[\"CatBoost (Default)\"] = mean_std_cross_val_scores(cb, X_train, y_train, cv=5, return_train_score=True)\n",
    "display(pd.DataFrame(results).T)"
   ]
  },
  {
   "cell_type": "markdown",
   "id": "42897377-af10-494d-98eb-946baed2f7e7",
   "metadata": {},
   "source": [
    "While the models all perform better than the baseline, `RandomForestClassifier` and `CatBoostClassifier` in particular are performing the best and have some overlap in cross-validation test score once accounting for the standard deviation. Notably, these two also seem to be overfitting somewhat, since they are achieving perfect scores on the training set, though this is difficult to avoid since the dataset is small. With some hyperparameter tuning, it might be possible to get a better score from them."
   ]
  },
  {
   "cell_type": "markdown",
   "id": "375f24ab-8b9f-4020-b1e8-120264a74b38",
   "metadata": {},
   "source": [
    "## Hyperparameter Tuning"
   ]
  },
  {
   "cell_type": "markdown",
   "id": "6e12d326-02ec-4abd-a8bd-fe3379a959cb",
   "metadata": {},
   "source": [
    "Starting with `RandomForestClassifier` again, I'll use `RandomizedSearchCV` to perform a random search for the best combination of parameters. Since there are only 16 features, I'll use the full range for `max_features`. For `max_depth` I'll cover some key values in the range between 1 and 500 as well as the option to allow the trees to branch without pruning. For the number of parallel estimators, I'll also cover a range between 1 and 500, evenly spaced in tens."
   ]
  },
  {
   "cell_type": "code",
   "execution_count": 21,
   "id": "009e27ac-646e-41e9-bd4b-cd1abe87db01",
   "metadata": {},
   "outputs": [
    {
     "name": "stdout",
     "output_type": "stream",
     "text": [
      "0.976923076923077\n",
      "{'randomforestclassifier__n_estimators': 61, 'randomforestclassifier__max_features': 2, 'randomforestclassifier__max_depth': 80}\n"
     ]
    }
   ],
   "source": [
    "param_dist = {\n",
    "    \"randomforestclassifier__max_depth\": [None, 1, 5, 10, 20, 40, 80, 100, 500], \n",
    "    \"randomforestclassifier__max_features\": range(1, 17, 1), \n",
    "    \"randomforestclassifier__n_estimators\": range(1, 501, 10)  \n",
    "    \n",
    "}\n",
    "\n",
    "pipe = make_pipeline(preprocessor, RandomForestClassifier(n_jobs=-1))\n",
    "\n",
    "random_search = RandomizedSearchCV(pipe,  \n",
    "                  random_state = 111,\n",
    "                  param_distributions = param_dist, \n",
    "                  n_iter=100, \n",
    "                  n_jobs=-1, \n",
    "                  return_train_score=True)\n",
    "\n",
    "random_search.fit(X_train, y_train)\n",
    "rf_best_score = random_search.best_score_\n",
    "rf_best_params = random_search.best_params_\n",
    "print(rf_best_score)\n",
    "print(rf_best_params)"
   ]
  },
  {
   "cell_type": "markdown",
   "id": "c178a105-fffb-40c7-abc1-02fa9f1879d4",
   "metadata": {},
   "source": [
    "Let's see how the cross-validation score stacks up."
   ]
  },
  {
   "cell_type": "code",
   "execution_count": 22,
   "id": "89ba0030-f46e-411e-b538-92459509c16b",
   "metadata": {},
   "outputs": [
    {
     "data": {
      "text/html": [
       "<div>\n",
       "<style scoped>\n",
       "    .dataframe tbody tr th:only-of-type {\n",
       "        vertical-align: middle;\n",
       "    }\n",
       "\n",
       "    .dataframe tbody tr th {\n",
       "        vertical-align: top;\n",
       "    }\n",
       "\n",
       "    .dataframe thead th {\n",
       "        text-align: right;\n",
       "    }\n",
       "</style>\n",
       "<table border=\"1\" class=\"dataframe\">\n",
       "  <thead>\n",
       "    <tr style=\"text-align: right;\">\n",
       "      <th></th>\n",
       "      <th>fit_time</th>\n",
       "      <th>score_time</th>\n",
       "      <th>test_score</th>\n",
       "      <th>train_score</th>\n",
       "    </tr>\n",
       "  </thead>\n",
       "  <tbody>\n",
       "    <tr>\n",
       "      <th>GaussianNB (Baseline)</th>\n",
       "      <td>0.006 (+/- 0.009)</td>\n",
       "      <td>0.006 (+/- 0.009)</td>\n",
       "      <td>0.890 (+/- 0.027)</td>\n",
       "      <td>0.900 (+/- 0.016)</td>\n",
       "    </tr>\n",
       "    <tr>\n",
       "      <th>LogisticRegression (Default)</th>\n",
       "      <td>0.009 (+/- 0.009)</td>\n",
       "      <td>0.009 (+/- 0.009)</td>\n",
       "      <td>0.921 (+/- 0.019)</td>\n",
       "      <td>0.945 (+/- 0.008)</td>\n",
       "    </tr>\n",
       "    <tr>\n",
       "      <th>RandomForest (Default)</th>\n",
       "      <td>0.538 (+/- 1.023)</td>\n",
       "      <td>0.024 (+/- 0.008)</td>\n",
       "      <td>0.967 (+/- 0.027)</td>\n",
       "      <td>1.000 (+/- 0.000)</td>\n",
       "    </tr>\n",
       "    <tr>\n",
       "      <th>CatBoost (Default)</th>\n",
       "      <td>1.662 (+/- 0.137)</td>\n",
       "      <td>0.016 (+/- 0.000)</td>\n",
       "      <td>0.967 (+/- 0.025)</td>\n",
       "      <td>1.000 (+/- 0.000)</td>\n",
       "    </tr>\n",
       "    <tr>\n",
       "      <th>RandomForest (Tuned)</th>\n",
       "      <td>0.069 (+/- 0.009)</td>\n",
       "      <td>0.016 (+/- 0.000)</td>\n",
       "      <td>0.969 (+/- 0.025)</td>\n",
       "      <td>1.000 (+/- 0.000)</td>\n",
       "    </tr>\n",
       "  </tbody>\n",
       "</table>\n",
       "</div>"
      ],
      "text/plain": [
       "                                       fit_time         score_time  \\\n",
       "GaussianNB (Baseline)         0.006 (+/- 0.009)  0.006 (+/- 0.009)   \n",
       "LogisticRegression (Default)  0.009 (+/- 0.009)  0.009 (+/- 0.009)   \n",
       "RandomForest (Default)        0.538 (+/- 1.023)  0.024 (+/- 0.008)   \n",
       "CatBoost (Default)            1.662 (+/- 0.137)  0.016 (+/- 0.000)   \n",
       "RandomForest (Tuned)          0.069 (+/- 0.009)  0.016 (+/- 0.000)   \n",
       "\n",
       "                                     test_score        train_score  \n",
       "GaussianNB (Baseline)         0.890 (+/- 0.027)  0.900 (+/- 0.016)  \n",
       "LogisticRegression (Default)  0.921 (+/- 0.019)  0.945 (+/- 0.008)  \n",
       "RandomForest (Default)        0.967 (+/- 0.027)  1.000 (+/- 0.000)  \n",
       "CatBoost (Default)            0.967 (+/- 0.025)  1.000 (+/- 0.000)  \n",
       "RandomForest (Tuned)          0.969 (+/- 0.025)  1.000 (+/- 0.000)  "
      ]
     },
     "metadata": {},
     "output_type": "display_data"
    }
   ],
   "source": [
    "rf = make_pipeline(preprocessor, RandomForestClassifier(n_jobs=-1, \n",
    "                                                        max_depth = rf_best_params['randomforestclassifier__max_depth'],\n",
    "                                                        max_features = rf_best_params[\"randomforestclassifier__max_features\"],\n",
    "                                                        n_estimators = rf_best_params[\"randomforestclassifier__n_estimators\"]))\n",
    "\n",
    "results[\"RandomForest (Tuned)\"] = mean_std_cross_val_scores(rf, X_train, y_train, cv=5, return_train_score=True)\n",
    "display(pd.DataFrame(results).T)"
   ]
  },
  {
   "cell_type": "markdown",
   "id": "fbf6b322-5abb-4a95-97ce-cce47db818cc",
   "metadata": {},
   "source": [
    "There seems to be a bit of a drop in performance between the score out of the randomized grid search and the cross-validation, which might be because the small dataset is being hit too many times between the cross-validation in the search and the repeated cross-validation for the comparison. Despite the drop, it's performing better than the unoptimized model."
   ]
  },
  {
   "cell_type": "markdown",
   "id": "c5219f96-ce3c-4bdd-a95b-f7665a538859",
   "metadata": {},
   "source": [
    "Next, I'll attempt to get an even better score through tuning the hyperparameters for `CatBoostClassifier`. I'm choosing some values for the learning rate between 0 and 5. Also, as recommended, I'm going to look for a max depth between 4 and 10. The total number of iterations here is slightly lower than for `RandomForestClassifier` because of the extended time needed for `CatBoostClassifier` to run."
   ]
  },
  {
   "cell_type": "code",
   "execution_count": 23,
   "id": "086132b4-b10a-4874-9a23-a052405576e1",
   "metadata": {},
   "outputs": [
    {
     "name": "stdout",
     "output_type": "stream",
     "text": [
      "0.9794871794871796\n",
      "{'catboostclassifier__max_depth': 9, 'catboostclassifier__learning_rate': 0.33334}\n"
     ]
    }
   ],
   "source": [
    "param_dist = {\n",
    "    \"catboostclassifier__learning_rate\": np.linspace(0.00001,1,10),\n",
    "    \"catboostclassifier__max_depth\": range(4, 11)\n",
    "}\n",
    "\n",
    "pipe = make_pipeline(preprocessor, CatBoostClassifier(verbose=0, random_state=111))\n",
    "\n",
    "random_search = RandomizedSearchCV(pipe,\n",
    "                  random_state = 111,                 \n",
    "                  param_distributions = param_dist, \n",
    "                  n_iter=50, \n",
    "                  return_train_score=True)\n",
    "\n",
    "random_search.fit(X_train, y_train_enc)\n",
    "cb_best_score = random_search.best_score_\n",
    "cb_best_params = random_search.best_params_\n",
    "print(cb_best_score)\n",
    "print(cb_best_params)"
   ]
  },
  {
   "cell_type": "markdown",
   "id": "af9c2d08-4c43-4b81-aa09-6a3bb1dc7e73",
   "metadata": {},
   "source": [
    "Again, I'll compare it to the cross-validation performance of the other models."
   ]
  },
  {
   "cell_type": "code",
   "execution_count": 24,
   "id": "69d2b3c0-5647-4b9c-b33d-29e725173c4f",
   "metadata": {},
   "outputs": [
    {
     "data": {
      "text/html": [
       "<div>\n",
       "<style scoped>\n",
       "    .dataframe tbody tr th:only-of-type {\n",
       "        vertical-align: middle;\n",
       "    }\n",
       "\n",
       "    .dataframe tbody tr th {\n",
       "        vertical-align: top;\n",
       "    }\n",
       "\n",
       "    .dataframe thead th {\n",
       "        text-align: right;\n",
       "    }\n",
       "</style>\n",
       "<table border=\"1\" class=\"dataframe\">\n",
       "  <thead>\n",
       "    <tr style=\"text-align: right;\">\n",
       "      <th></th>\n",
       "      <th>fit_time</th>\n",
       "      <th>score_time</th>\n",
       "      <th>test_score</th>\n",
       "      <th>train_score</th>\n",
       "    </tr>\n",
       "  </thead>\n",
       "  <tbody>\n",
       "    <tr>\n",
       "      <th>GaussianNB (Baseline)</th>\n",
       "      <td>0.006 (+/- 0.009)</td>\n",
       "      <td>0.006 (+/- 0.009)</td>\n",
       "      <td>0.890 (+/- 0.027)</td>\n",
       "      <td>0.900 (+/- 0.016)</td>\n",
       "    </tr>\n",
       "    <tr>\n",
       "      <th>LogisticRegression (Default)</th>\n",
       "      <td>0.009 (+/- 0.009)</td>\n",
       "      <td>0.009 (+/- 0.009)</td>\n",
       "      <td>0.921 (+/- 0.019)</td>\n",
       "      <td>0.945 (+/- 0.008)</td>\n",
       "    </tr>\n",
       "    <tr>\n",
       "      <th>RandomForest (Default)</th>\n",
       "      <td>0.538 (+/- 1.023)</td>\n",
       "      <td>0.024 (+/- 0.008)</td>\n",
       "      <td>0.967 (+/- 0.027)</td>\n",
       "      <td>1.000 (+/- 0.000)</td>\n",
       "    </tr>\n",
       "    <tr>\n",
       "      <th>CatBoost (Default)</th>\n",
       "      <td>1.662 (+/- 0.137)</td>\n",
       "      <td>0.016 (+/- 0.000)</td>\n",
       "      <td>0.967 (+/- 0.025)</td>\n",
       "      <td>1.000 (+/- 0.000)</td>\n",
       "    </tr>\n",
       "    <tr>\n",
       "      <th>RandomForest (Tuned)</th>\n",
       "      <td>0.069 (+/- 0.009)</td>\n",
       "      <td>0.016 (+/- 0.000)</td>\n",
       "      <td>0.969 (+/- 0.025)</td>\n",
       "      <td>1.000 (+/- 0.000)</td>\n",
       "    </tr>\n",
       "    <tr>\n",
       "      <th>CatBoost (Tuned)</th>\n",
       "      <td>5.338 (+/- 0.127)</td>\n",
       "      <td>0.012 (+/- 0.007)</td>\n",
       "      <td>0.979 (+/- 0.019)</td>\n",
       "      <td>1.000 (+/- 0.000)</td>\n",
       "    </tr>\n",
       "  </tbody>\n",
       "</table>\n",
       "</div>"
      ],
      "text/plain": [
       "                                       fit_time         score_time  \\\n",
       "GaussianNB (Baseline)         0.006 (+/- 0.009)  0.006 (+/- 0.009)   \n",
       "LogisticRegression (Default)  0.009 (+/- 0.009)  0.009 (+/- 0.009)   \n",
       "RandomForest (Default)        0.538 (+/- 1.023)  0.024 (+/- 0.008)   \n",
       "CatBoost (Default)            1.662 (+/- 0.137)  0.016 (+/- 0.000)   \n",
       "RandomForest (Tuned)          0.069 (+/- 0.009)  0.016 (+/- 0.000)   \n",
       "CatBoost (Tuned)              5.338 (+/- 0.127)  0.012 (+/- 0.007)   \n",
       "\n",
       "                                     test_score        train_score  \n",
       "GaussianNB (Baseline)         0.890 (+/- 0.027)  0.900 (+/- 0.016)  \n",
       "LogisticRegression (Default)  0.921 (+/- 0.019)  0.945 (+/- 0.008)  \n",
       "RandomForest (Default)        0.967 (+/- 0.027)  1.000 (+/- 0.000)  \n",
       "CatBoost (Default)            0.967 (+/- 0.025)  1.000 (+/- 0.000)  \n",
       "RandomForest (Tuned)          0.969 (+/- 0.025)  1.000 (+/- 0.000)  \n",
       "CatBoost (Tuned)              0.979 (+/- 0.019)  1.000 (+/- 0.000)  "
      ]
     },
     "metadata": {},
     "output_type": "display_data"
    }
   ],
   "source": [
    "cb = make_pipeline(preprocessor, CatBoostClassifier(verbose=0, \n",
    "                                                             random_state=111, \n",
    "                                                             learning_rate = cb_best_params['catboostclassifier__learning_rate'],\n",
    "                                                             max_depth = cb_best_params['catboostclassifier__max_depth']))\n",
    "\n",
    "results[\"CatBoost (Tuned)\"] = mean_std_cross_val_scores(cb, X_train, y_train, cv=5, return_train_score=True)\n",
    "display(pd.DataFrame(results).T)"
   ]
  },
  {
   "cell_type": "markdown",
   "id": "4ff820c7-8555-44e1-9f6e-dd0aadcb4761",
   "metadata": {},
   "source": [
    "Out of the models tried here, it looks like the optimized version of CatBoost is performing the best, so I'll use it as my final model."
   ]
  },
  {
   "cell_type": "markdown",
   "id": "1d0ef9fc-7a17-442b-85ed-63af88025d6a",
   "metadata": {},
   "source": [
    "## Final Model"
   ]
  },
  {
   "cell_type": "markdown",
   "id": "e0492f1c-4c41-4553-9303-d25022ff4953",
   "metadata": {},
   "source": [
    "After determining that `CatBoostClassifier` seems to perform the best out of the models tried, I will test its performance on the test data."
   ]
  },
  {
   "cell_type": "code",
   "execution_count": 25,
   "id": "d37de552-b4f9-4f96-9c72-25937c161a0e",
   "metadata": {},
   "outputs": [
    {
     "name": "stdout",
     "output_type": "stream",
     "text": [
      "0.9769230769230769\n"
     ]
    }
   ],
   "source": [
    "final_model = make_pipeline(preprocessor, CatBoostClassifier(verbose=0, \n",
    "                                                             random_state=111, \n",
    "                                                             learning_rate = cb_best_params['catboostclassifier__learning_rate'],\n",
    "                                                             max_depth = cb_best_params['catboostclassifier__max_depth']))\n",
    "final_model.fit(X_train, y_train_enc)\n",
    "test_score = final_model.score(X_test, y_test_enc)\n",
    "print(test_score)"
   ]
  },
  {
   "cell_type": "markdown",
   "id": "e80ef962-6eef-420a-9b78-c51b66073ff4",
   "metadata": {},
   "source": [
    "The test score is a little lower than the cross-validation score, which is expected. Despite not being quite as high, it is still a significant improvement over the baseline score."
   ]
  },
  {
   "cell_type": "markdown",
   "id": "5b70f08e-2098-45a3-bf66-8870987a15ae",
   "metadata": {},
   "source": [
    "## Conclusion and Limitations"
   ]
  },
  {
   "cell_type": "markdown",
   "id": "7126f7cc-1d25-47e2-8486-3889f622d291",
   "metadata": {},
   "source": [
    "The final model selected, `CatBoostClassifier` after hyperparameter optimization, was able to predict the diabetes status of the patients in the dataset with a test accuracy of 0.9769. While this is an improvement over the initial baseline model, it is possible that this score could be improved further with more feature engineering and more iterations in the randomized search for ideal hyperparameters. However, the performance does suggest that the available data is strongly related to diabetes status. \n",
    "\n",
    "\n",
    "The choice to use accuracy here meant that the scoring considered false penalties and false positives to be equally incorrect, but in some medical contexts it might be preferred to score on recall so that avoiding false negatives is most preferred. Additionally, the dataset is very small (only 390 patients), and the demographics skews towards middle-aged men. This bias in the dataset might affect how well the model would perform with a more diverse set of patients."
   ]
  }
 ],
 "metadata": {
  "kernelspec": {
   "display_name": "Python 3 (ipykernel)",
   "language": "python",
   "name": "python3"
  },
  "language_info": {
   "codemirror_mode": {
    "name": "ipython",
    "version": 3
   },
   "file_extension": ".py",
   "mimetype": "text/x-python",
   "name": "python",
   "nbconvert_exporter": "python",
   "pygments_lexer": "ipython3",
   "version": "3.9.18"
  }
 },
 "nbformat": 4,
 "nbformat_minor": 5
}
